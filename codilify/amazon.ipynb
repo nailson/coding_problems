{
 "metadata": {
  "language_info": {
   "codemirror_mode": {
    "name": "ipython",
    "version": 3
   },
   "file_extension": ".py",
   "mimetype": "text/x-python",
   "name": "python",
   "nbconvert_exporter": "python",
   "pygments_lexer": "ipython3",
   "version": "3.8.3-final"
  },
  "orig_nbformat": 2,
  "kernelspec": {
   "name": "python3",
   "display_name": "Python 3",
   "language": "python"
  }
 },
 "nbformat": 4,
 "nbformat_minor": 2,
 "cells": [
  {
   "source": [
    "Task description\n",
    "Get the minumum integer possible puttinh a 5 into the list of digits"
   ],
   "cell_type": "markdown",
   "metadata": {}
  },
  {
   "cell_type": "code",
   "execution_count": 114,
   "metadata": {},
   "outputs": [],
   "source": [
    "def list_int(list):\n",
    "    s = [str(abs(i)) for i in list]\n",
    "    res = int(\"\".join(s)) \n",
    "    return(res) \n",
    "\n",
    "def solution(N, elem = 5, mult = 1):\n",
    "    \n",
    "    if(N < 0):\n",
    "        mult = -1\n",
    "    \n",
    "    digits = [int(d)*mult for d in str(abs(N))] \n",
    "    aux = digits.copy()\n",
    "\n",
    "    for i, d in enumerate(digits):\n",
    "        if(elem*mult>d):\n",
    "            aux.insert(i, 5)\n",
    "            return mult*list_int(aux)\n",
    "    aux.insert(i+1, 5)\n",
    "    return mult*list_int(aux)"
   ]
  },
  {
   "cell_type": "code",
   "execution_count": 115,
   "metadata": {
    "tags": []
   },
   "outputs": [
    {
     "output_type": "stream",
     "name": "stdout",
     "text": [
      "5268\n-5999\n6750\n-5959\n50\n-15\n"
     ]
    }
   ],
   "source": [
    "print(solution(268))\n",
    "print(solution(-999))\n",
    "print(solution(670))\n",
    "print(solution(-959))\n",
    "print(solution(0))\n",
    "\n",
    "print(solution(-1))"
   ]
  }
 ]
}