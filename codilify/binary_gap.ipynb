{
 "cells": [
  {
   "cell_type": "markdown",
   "metadata": {},
   "source": [
    "A binary gap within a positive integer N is any maximal sequence of consecutive zeros that is surrounded by ones at both ends in the binary representation of N.\n",
    "\n",
    "For example, number 9 has binary representation 1001 and contains a binary gap of length 2. The number 529 has binary representation 1000010001 and contains two binary gaps: one of length 4 and one of length 3. The number 20 has binary representation 10100 and contains one binary gap of length 1. The number 15 has binary representation 1111 and has no binary gaps. The number 32 has binary representation 100000 and has no binary gaps.\n",
    "\n",
    "Write a function:\n",
    "\n",
    "def solution(N)\n",
    "\n",
    "that, given a positive integer N, returns the length of its longest binary gap. The function should return 0 if N doesn't contain a binary gap.\n",
    "\n",
    "For example, given N = 1041 the function should return 5, because N has binary representation 10000010001 and so its longest binary gap is of length 5. Given N = 32 the function should return 0, because N has binary representation '100000' and thus no binary gaps.\n",
    "\n",
    "Write an efficient algorithm for the following assumptions:\n",
    "\n",
    "N is an integer within the range [1..2,147,483,647]."
   ]
  },
  {
   "cell_type": "code",
   "execution_count": 55,
   "metadata": {},
   "outputs": [],
   "source": [
    "def solution(N):\n",
    "    # convert to a string with 0s and 1s\n",
    "    bin_str = \"{0:b}\".format(N)\n",
    "    last_index = len(bin_str)\n",
    "    # list of consecutive zeros\n",
    "    consec_zeros = [0]\n",
    "\n",
    "    # loop throught the binary characters\n",
    "    for i in range(0,last_index):\n",
    "        # if find a '1'\n",
    "        if(bin_str[i] == '1'):\n",
    "            j = i + 1\n",
    "            count = 0\n",
    "            # loop untill find another 1\n",
    "            while(j < last_index):\n",
    "                if(bin_str[j]== '1'):\n",
    "                    # append the consecutive zeros to a list\n",
    "                    consec_zeros.append(count)\n",
    "                    break\n",
    "                j = j+1\n",
    "                count = count+1\n",
    "    return max(consec_zeros)"
   ]
  },
  {
   "cell_type": "code",
   "execution_count": 8,
   "metadata": {},
   "outputs": [],
   "source": [
    "example_test = [1041, 15, 32, 9, 529, 20]\n",
    "binary_test = ['10000010001', '1111', '100000', '1001', '1000010001', '10100']\n",
    "output_test = [5, 0, 0, 2, 4, 1]"
   ]
  },
  {
   "cell_type": "code",
   "execution_count": 10,
   "metadata": {},
   "outputs": [
    {
     "output_type": "execute_result",
     "data": {
      "text/plain": "['10000010001', '1111', '100000', '1001', '1000010001', '10100']"
     },
     "metadata": {},
     "execution_count": 10
    }
   ],
   "source": [
    "[\"{0:b}\".format(number) for number in example_test]"
   ]
  },
  {
   "cell_type": "code",
   "execution_count": 57,
   "metadata": {},
   "outputs": [
    {
     "output_type": "execute_result",
     "data": {
      "text/plain": "[5, 0, 0, 2, 4, 1, 0]"
     },
     "metadata": {},
     "execution_count": 57
    }
   ],
   "source": [
    "test = [1041, 15, 32, 9, 529, 20, 0]\n",
    "output = [solution(N) for N in test]\n",
    "output"
   ]
  },
  {
   "cell_type": "code",
   "execution_count": 54,
   "metadata": {},
   "outputs": [
    {
     "output_type": "stream",
     "name": "stdout",
     "text": "2\n"
    }
   ],
   "source": [
    "\n",
    "N = 9\n",
    "bin_str = \"{0:b}\".format(N)\n",
    "last_index = len(bin_str)\n",
    "consec_zeros = [0]\n",
    "\n",
    "for i in range(0,last_index):\n",
    "    if(bin_str[i] == '1'):\n",
    "        j = i + 1\n",
    "        count = 0\n",
    "        while(j < last_index):\n",
    "            if(bin_str[j]== '1'):\n",
    "                consec_zeros.append(count)\n",
    "                break\n",
    "            j = j+1\n",
    "            count = count+1\n",
    "print(max(consec_zeros))"
   ]
  },
  {
   "cell_type": "code",
   "execution_count": 42,
   "metadata": {},
   "outputs": [
    {
     "output_type": "execute_result",
     "data": {
      "text/plain": "10"
     },
     "metadata": {},
     "execution_count": 42
    }
   ],
   "source": [
    "last_index"
   ]
  },
  {
   "cell_type": "code",
   "execution_count": 40,
   "metadata": {},
   "outputs": [
    {
     "output_type": "execute_result",
     "data": {
      "text/plain": "3"
     },
     "metadata": {},
     "execution_count": 40
    }
   ],
   "source": [
    "max([1,2,3])"
   ]
  }
 ],
 "metadata": {
  "language_info": {
   "codemirror_mode": {
    "name": "ipython",
    "version": 3
   },
   "file_extension": ".py",
   "mimetype": "text/x-python",
   "name": "python",
   "nbconvert_exporter": "python",
   "pygments_lexer": "ipython3",
   "version": "3.7.6-final"
  },
  "orig_nbformat": 2,
  "kernelspec": {
   "name": "python3",
   "display_name": "Python 3"
  }
 },
 "nbformat": 4,
 "nbformat_minor": 2
}