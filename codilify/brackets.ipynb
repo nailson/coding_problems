{
 "cells": [
  {
   "cell_type": "markdown",
   "metadata": {},
   "source": [
    "# Nested String\n",
    "A string S consisting of N characters is considered to be properly nested if any of the following conditions is true:\n",
    "\n",
    "S is empty;\n",
    "S has the form \"(U)\" or \"\\[U\\]\" or \"{U}\" where U is a properly nested string;\n",
    "S has the form \"VW\" where V and W are properly nested strings.\n",
    "For example, the string \"{\\[()()\\]}\" is properly nested but \"(\\[)()]\" is not.\n",
    "\n",
    "Write a function:\n",
    "\n",
    "def solution(S) that, given a string S consisting of N characters, returns 1 if S is properly nested and 0 otherwise.\n",
    "\n",
    "For example, given S = \"{\\[()()\\]}\", the function should return 1 and given S = \"(\\[)()\\\", the function should return 0, as explained above.\n",
    "\n",
    "Write an efficient algorithm for the following assumptions:\n",
    "\n",
    "\n",
    "N is an integer within the range \\[0..200,000\\];\n",
    "string S consists only of the following characters: \"(\", \"{\", \"\\[\", \"\\]\", \"}\" and/or \")\"."
   ]
  },
  {
   "cell_type": "code",
   "execution_count": 22,
   "metadata": {},
   "outputs": [],
   "source": [
    "test=\"{[()()]}\"\n",
    "test2=\"([)()]\"\n",
    "test3=\"][(){}\""
   ]
  },
  {
   "cell_type": "code",
   "execution_count": 23,
   "metadata": {},
   "outputs": [
    {
     "output_type": "stream",
     "name": "stdout",
     "text": "0\n1\n"
    }
   ],
   "source": [
    "bracket_stack = []\n",
    "open_bracket = set(['(', '{', '['])\n",
    "inversed_brackets ={\"}\":'{',\")\":'(',\"]\":'['}\n",
    "\n",
    "for bracket in test3:\n",
    "    if bracket in open_bracket:\n",
    "        bracket_stack.append(bracket)\n",
    "    else:\n",
    "        if not bracket_stack:\n",
    "            print(0)\n",
    "            break\n",
    "        elif(inversed_brackets[bracket] != bracket_stack.pop()):\n",
    "            print(0)\n",
    "            break\n",
    "    print(bracket_stack)\n",
    "if not bracket_stack:\n",
    "    print(1)\n",
    "else:\n",
    "    print(0)"
   ]
  },
  {
   "cell_type": "code",
   "execution_count": 28,
   "metadata": {},
   "outputs": [
    {
     "output_type": "execute_result",
     "data": {
      "text/plain": "[1, 0, 0]"
     },
     "metadata": {},
     "execution_count": 28
    }
   ],
   "source": [
    "def solution(S):\n",
    "    # stack to keep the opening brackets \n",
    "    bracket_stack = []\n",
    "    open_bracket = set(['(', '{', '['])\n",
    "    # dict to compare the right characteres\n",
    "    inversed_brackets ={\"}\":'{',\")\":'(',\"]\":'['}\n",
    "\n",
    "    # loop through the string list\n",
    "    for bracket in S:\n",
    "        # if is an opening bracket just push into stack\n",
    "        if bracket in open_bracket:\n",
    "            bracket_stack.append(bracket)\n",
    "        else:\n",
    "            # if the stack is empty return 0\n",
    "            if len(bracket_stack)==0:\n",
    "                return 0\n",
    "            # else, check if the closing is the right one\n",
    "            elif(inversed_brackets[bracket] != bracket_stack.pop()):\n",
    "                return 0\n",
    "    if len(bracket_stack)==0:\n",
    "        return 1\n",
    "    return 0\n",
    "\n",
    "[solution(test), solution(test2), solution(test3)]"
   ]
  }
 ],
 "metadata": {
  "language_info": {
   "codemirror_mode": {
    "name": "ipython",
    "version": 3
   },
   "file_extension": ".py",
   "mimetype": "text/x-python",
   "name": "python",
   "nbconvert_exporter": "python",
   "pygments_lexer": "ipython3",
   "version": "3.7.6-final"
  },
  "orig_nbformat": 2,
  "kernelspec": {
   "name": "python3",
   "display_name": "Python 3"
  }
 },
 "nbformat": 4,
 "nbformat_minor": 2
}