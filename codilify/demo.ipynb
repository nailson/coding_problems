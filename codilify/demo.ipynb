{
 "cells": [
  {
   "cell_type": "markdown",
   "metadata": {},
   "source": [
    "# Demo\n",
    "This is a demo task.\n",
    "\n",
    "Write a function:\n",
    "\n",
    "class Solution { public int solution(int[] A); }\n",
    "\n",
    "that, given an array A of N integers, returns the smallest positive integer (greater than 0) that does not occur in A.\n",
    "\n",
    "For example, given A = \\[1, 3, 6, 4, 1, 2], the function should return 5.\n",
    "\n",
    "Given A = \\[1, 2, 3], the function should return 4.\n",
    "\n",
    "Given A = \\[−1, −3], the function should return 1.\n",
    "\n",
    "Write an efficient algorithm for the following assumptions:\n",
    "\n",
    "N is an integer within the range \\[1..100,000];\n",
    "each element of array A is an integer within the range \\[−1,000,000..1,000,000].\n",
    "Copyright 2009–2020 by Codility Limited. All Rights Reserved. Unauthorized copying, publication or disclosure prohibited.\n"
   ]
  },
  {
   "cell_type": "code",
   "execution_count": 34,
   "metadata": {},
   "outputs": [],
   "source": [
    "def solution(A):\n",
    "    A.sort()\n",
    "    smallest_positive = 0\n",
    "\n",
    "    for value in A:\n",
    "        smallest_diff = value - smallest_positive\n",
    "        if(value<=0 or smallest_diff==0):\n",
    "            pass\n",
    "        elif(smallest_diff==1):\n",
    "            smallest_positive = value\n",
    "        else:\n",
    "            return smallest_positive+1\n",
    "\n",
    "    return smallest_positive+1"
   ]
  },
  {
   "cell_type": "code",
   "execution_count": 44,
   "metadata": {},
   "outputs": [
    {
     "output_type": "execute_result",
     "data": {
      "text/plain": "5"
     },
     "metadata": {},
     "execution_count": 44
    }
   ],
   "source": [
    "A = [1, 3, 6, 4, 1, 2]\n",
    "solution(A)"
   ]
  },
  {
   "cell_type": "code",
   "execution_count": 37,
   "metadata": {},
   "outputs": [
    {
     "output_type": "execute_result",
     "data": {
      "text/plain": "2"
     },
     "metadata": {},
     "execution_count": 37
    }
   ],
   "source": [
    "A = [-1, -3, -6, -4, 1, -2]\n",
    "solution(A)"
   ]
  },
  {
   "cell_type": "code",
   "execution_count": 25,
   "metadata": {},
   "outputs": [
    {
     "output_type": "stream",
     "name": "stdout",
     "text": "1\n1\n2\n3\n4\n6\n4\n"
    }
   ],
   "source": [
    "A.sort()\n",
    "smallest_positive = 1\n",
    "\n",
    "for value in A:\n",
    "    smallest_diff = value - smallest_positive\n",
    "    if(value<=0 or smallest_diff==0):\n",
    "        pass\n",
    "    elif(smallest_diff==1):\n",
    "        smallest_positive = value\n",
    "    else:\n",
    "        return smallest_positive+1"
   ]
  },
  {
   "cell_type": "code",
   "execution_count": 45,
   "metadata": {},
   "outputs": [
    {
     "output_type": "stream",
     "name": "stdout",
     "text": "5\n"
    }
   ],
   "source": [
    "A = [1, 3, 6, 4, 1, 2]\n",
    "\n",
    "smallest_positive = 1\n",
    "for value in A:\n",
    "     if (value == smallest_positive):\n",
    "       smallest_positive+=1\n",
    "print(smallest_positive)"
   ]
  }
 ],
 "metadata": {
  "language_info": {
   "codemirror_mode": {
    "name": "ipython",
    "version": 3
   },
   "file_extension": ".py",
   "mimetype": "text/x-python",
   "name": "python",
   "nbconvert_exporter": "python",
   "pygments_lexer": "ipython3",
   "version": "3.7.6-final"
  },
  "orig_nbformat": 2,
  "kernelspec": {
   "name": "python3",
   "display_name": "Python 3"
  }
 },
 "nbformat": 4,
 "nbformat_minor": 2
}