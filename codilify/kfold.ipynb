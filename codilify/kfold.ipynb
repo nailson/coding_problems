{
 "cells": [
  {
   "cell_type": "markdown",
   "metadata": {},
   "source": [
    "# K Fold \n",
    "\n",
    "Implement a k-fold algorithm "
   ]
  },
  {
   "cell_type": "code",
   "execution_count": 51,
   "metadata": {},
   "outputs": [],
   "source": [
    "from itertools import permutations \n",
    "\n",
    "def solution(indices, K):\n",
    "    # Number of elements in indices\n",
    "    N = len(indices)\n",
    "    # Size of slices\n",
    "    maior_tamanho = round(N/K)\n",
    "    lista_indices = []\n",
    "    \n",
    "    for index in range(0, N, maior_tamanho):\n",
    "        lista_indices.append(indices[index:index+maior_tamanho])\n",
    "\n",
    "    # Get all permutations of folds \n",
    "    perm = permutations(lista_indices) \n",
    "    kfolds = []\n",
    "\n",
    "    for i in list(perm): \n",
    "        kfolds = kfolds + list(i)\n",
    "    \n",
    "    return kfolds"
   ]
  },
  {
   "cell_type": "code",
   "execution_count": 52,
   "metadata": {},
   "outputs": [
    {
     "output_type": "execute_result",
     "data": {
      "text/plain": "[[1, 2], [3], [3], [1, 2]]"
     },
     "metadata": {},
     "execution_count": 52
    }
   ],
   "source": [
    "\n",
    "solution([1, 2, 3], 2)"
   ]
  },
  {
   "cell_type": "code",
   "execution_count": 38,
   "metadata": {},
   "outputs": [
    {
     "output_type": "stream",
     "name": "stdout",
     "text": "[[1, 2, 3, 4, 5], [3, 4, 5], [5]]\n[[1, 2, 3, 4, 5], [3, 4, 5], [5], [1, 2, 3, 4, 5], [5], [3, 4, 5], [3, 4, 5], [1, 2, 3, 4, 5], [5], [3, 4, 5], [5], [1, 2, 3, 4, 5], [5], [1, 2, 3, 4, 5], [3, 4, 5], [5], [3, 4, 5], [1, 2, 3, 4, 5]]\n"
    }
   ],
   "source": [
    "from itertools import permutations \n",
    "\n",
    "\n",
    "indices = [1, 2,3,4,5]\n",
    "K = 3\n",
    "N = len(indices)\n",
    "maior_tamanho = round(N/K)\n",
    "lista_indices = []\n",
    "for index in range(0, N, maior_tamanho):\n",
    "    lista_indices.append(indices[index:index+tamanho_indice])\n",
    "\n",
    "# Get all permutations of folds \n",
    "perm = permutations(lista_indices) \n",
    "kfolds = []\n",
    "\n",
    "for i in list(perm): \n",
    "    kfolds = kfolds + list(i)\n",
    "print(kfolds)\n"
   ]
  }
 ],
 "metadata": {
  "language_info": {
   "codemirror_mode": {
    "name": "ipython",
    "version": 3
   },
   "file_extension": ".py",
   "mimetype": "text/x-python",
   "name": "python",
   "nbconvert_exporter": "python",
   "pygments_lexer": "ipython3",
   "version": "3.7.6-final"
  },
  "orig_nbformat": 2,
  "kernelspec": {
   "name": "python3",
   "display_name": "Python 3"
  }
 },
 "nbformat": 4,
 "nbformat_minor": 2
}