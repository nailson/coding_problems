{
 "cells": [
  {
   "cell_type": "markdown",
   "metadata": {},
   "source": [
    "# MaxSliceSum\n",
    "\n",
    "A non-empty array A consisting of N integers is given. A pair of integers (P, Q), such that 0 ≤ P ≤ Q < N, is called a slice of array A. The sum of a slice (P, Q) is the total of A\\[P] + A\\[P+1] + ... + A\\[Q].\n",
    "\n",
    "Write a function:\n",
    "\n",
    "def solution(A) that, given an array A consisting of N integers, returns the maximum sum of any slice of A.\n",
    "\n",
    "For example, given array A such that:\n",
    "\n",
    "A\\[0] = 3  A\\[1] = 2  A\\[2] = -6\n",
    "A\\[3] = 4  A\\[4] = 0\n",
    "the function should return 5 because:\n",
    "\n",
    "(3, 4) is a slice of A that has sum 4,\n",
    "(2, 2) is a slice of A that has sum −6,\n",
    "(0, 1) is a slice of A that has sum 5,\n",
    "no other slice of A has sum greater than (0, 1).\n",
    "Write an efficient algorithm for the following assumptions:\n",
    "\n",
    "N is an integer within the range \\[1..1,000,000];\n",
    "each element of array A is an integer within the range \\[−1,000,000..1,000,000];\n",
    "the result will be an integer within the range \\[−2,147,483,648..2,147,483,647]."
   ]
  },
  {
   "cell_type": "markdown",
   "metadata": {},
   "source": [
    "## Solution 1 - O(N*N)\n",
    "Brute Force Solution\n",
    "* Overall Score 89%\n",
    "* Task Score 84%\n",
    "* Correctness 100%\n",
    "* Performance 60%"
   ]
  },
  {
   "cell_type": "code",
   "execution_count": 81,
   "metadata": {},
   "outputs": [
    {
     "output_type": "stream",
     "name": "stdout",
     "text": "i=0, test[0]=3, max_slice=3, sum_slice=3\ni=0, test[1]=2, max_slice=5, sum_slice=5\ni=0, test[2]=-6, max_slice=5, sum_slice=-1\ni=0, test[3]=-4, max_slice=5, sum_slice=-5\ni=0, test[4]=0, max_slice=5, sum_slice=-5\ni=1, test[1]=2, max_slice=5, sum_slice=2\ni=1, test[2]=-6, max_slice=5, sum_slice=-4\ni=1, test[3]=-4, max_slice=5, sum_slice=-8\ni=1, test[4]=0, max_slice=5, sum_slice=-8\ni=2, test[2]=-6, max_slice=5, sum_slice=-6\ni=2, test[3]=-4, max_slice=5, sum_slice=-10\ni=2, test[4]=0, max_slice=5, sum_slice=-10\ni=3, test[3]=-4, max_slice=5, sum_slice=-4\ni=3, test[4]=0, max_slice=5, sum_slice=-4\ni=4, test[4]=0, max_slice=5, sum_slice=0\n5\n"
    }
   ],
   "source": [
    "# brute force solution\n",
    "\n",
    "test = [3, 2, -6, -4, 0]\n",
    "max_slice = test[0]\n",
    "N = len(test)\n",
    "\n",
    "for i in range(0,N):\n",
    "    sum_slice = 0\n",
    "    for j in range(i,N):\n",
    "\n",
    "        sum_slice = sum_slice + test[j]\n",
    "        if(max_slice<sum_slice):\n",
    "            max_slice = sum_slice\n",
    "        print(\"i={}, test[{}]={}, max_slice={}, sum_slice={}\".format(i,j,test[j],max_slice,sum_slice))    \n",
    "\n",
    "print(max_slice)"
   ]
  },
  {
   "cell_type": "code",
   "execution_count": 80,
   "metadata": {},
   "outputs": [
    {
     "output_type": "stream",
     "name": "stdout",
     "text": "test: 5, test2: 7\n"
    }
   ],
   "source": [
    "# brute force solution, do all permutations and get the max\n",
    "def solution(A):\n",
    "    # start the max_slice with the first calue\n",
    "    max_slice = A[0]\n",
    "    N = len(A)\n",
    "\n",
    "    # loop between all values in the list\n",
    "    for i in range(0,N):\n",
    "        sum_slice = 0\n",
    "        for j in range(i,N):\n",
    "            # accumulate the next values in sum_slice\n",
    "            sum_slice = sum_slice + A[j]\n",
    "            # get the max\n",
    "            if(max_slice<sum_slice):\n",
    "                max_slice = sum_slice\n",
    "            \n",
    "    return max_slice\n",
    "\n",
    "test=[3, 2, -6, 4, 0]\n",
    "test2= [-2, -3, 4, -1, -2, 1, 5, -3]\n",
    "print(\"test: {}, test2: {}\".format(solution(test),solution(test2)))"
   ]
  },
  {
   "cell_type": "markdown",
   "metadata": {},
   "source": [
    "## Solution 2 - O(N)\n",
    "Replace the start if the slice when the current value is bigger the the accumulated \n",
    "* Overall Score 100%"
   ]
  },
  {
   "cell_type": "code",
   "execution_count": 75,
   "metadata": {},
   "outputs": [
    {
     "output_type": "stream",
     "name": "stdout",
     "text": "A[0]=-2, nextSum=0, localMax=-2, absoluteMax=-2\nA[1]=-3, nextSum=-5, localMax=-3, absoluteMax=-2\nA[2]=4, nextSum=1, localMax=4, absoluteMax=4\nA[3]=-1, nextSum=3, localMax=3, absoluteMax=4\nA[4]=-2, nextSum=1, localMax=1, absoluteMax=4\nA[5]=1, nextSum=2, localMax=2, absoluteMax=4\nA[6]=5, nextSum=7, localMax=7, absoluteMax=7\nA[7]=-3, nextSum=4, localMax=4, absoluteMax=7\nResult =  7\n"
    }
   ],
   "source": [
    "A = [-2, -3, 4, -1, -2, 1, 5, -3]\n",
    "\n",
    "absoluteMax = A[0]\n",
    "localMax = A[0]\n",
    "nextSum = 0\n",
    "currentElement = 0\n",
    "\n",
    "print(\"A[{}]={}, nextSum={}, localMax={}, absoluteMax={}\".format(0, A[0],nextSum,localMax, absoluteMax))   \n",
    "\n",
    "for i in range(1,len(A)):\n",
    "\n",
    "    nextSum = localMax + A[i]\n",
    "    localMax = max(A[i], nextSum)\n",
    "\n",
    "    absoluteMax = max(absoluteMax, localMax)\n",
    "    \n",
    "    print(\"A[{}]={}, nextSum={}, localMax={}, absoluteMax={}\".format(i, A[i],nextSum,localMax, absoluteMax))   \n",
    "\n",
    "print(\"Result = \", absoluteMax)"
   ]
  },
  {
   "cell_type": "code",
   "execution_count": 79,
   "metadata": {},
   "outputs": [
    {
     "output_type": "stream",
     "name": "stdout",
     "text": "test: 5, test2: 7\n"
    }
   ],
   "source": [
    "# you can write to stdout for debugging purposes, e.g.\n",
    "# print(\"this is a debug message\")\n",
    "\n",
    "def solution(A):\n",
    "    absoluteMax = A[0]\n",
    "    localMax = A[0]\n",
    "    nextSum = 0\n",
    "    currentElement = 0\n",
    "\n",
    "    for i in range(1,len(A)):\n",
    "\n",
    "        nextSum = localMax + A[i]\n",
    "        localMax = max(A[i], nextSum)\n",
    "        absoluteMax = max(absoluteMax, localMax)\n",
    "        \n",
    "    return absoluteMax\n",
    "\n",
    "test= [3, 2, -6, 4, 0]\n",
    "test2= [-2, -3, 4, -1, -2, 1, 5, -3]\n",
    "print(\"test: {}, test2: {}\".format(solution(test),solution(test2)))"
   ]
  }
 ],
 "metadata": {
  "language_info": {
   "codemirror_mode": {
    "name": "ipython",
    "version": 3
   },
   "file_extension": ".py",
   "mimetype": "text/x-python",
   "name": "python",
   "nbconvert_exporter": "python",
   "pygments_lexer": "ipython3",
   "version": "3.7.6-final"
  },
  "orig_nbformat": 2,
  "kernelspec": {
   "name": "python3",
   "display_name": "Python 3"
  }
 },
 "nbformat": 4,
 "nbformat_minor": 2
}