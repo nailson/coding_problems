{
 "cells": [
  {
   "cell_type": "markdown",
   "metadata": {},
   "source": [
    "# StoneWall\n",
    "\n",
    "You are going to build a stone wall. The wall should be straight and N meters long, and its thickness should be constant; however, it should have different heights in different places. The height of the wall is specified by an array H of N positive integers. H\\[I] is the height of the wall from I to I+1 meters to the right of its left end. In particular, H\\[0] is the height of the wall's left end and H\\[N−1] is the height of the wall's right end.\n",
    "\n",
    "The wall should be built of cuboid stone blocks (that is, all sides of such blocks are rectangular). Your task is to compute the minimum number of blocks needed to build the wall.\n",
    "\n",
    "Write a function:\n",
    "\n",
    "def solution(H)\n",
    "\n",
    "that, given an array H of N positive integers specifying the height of the wall, returns the minimum number of blocks needed to build it.\n",
    "\n",
    "For example, given array H containing N = 9 integers:\n",
    "\n",
    "  H\\[0] = 8    H\\[1] = 8    H\\[2] = 5\n",
    "  H\\[3] = 7    H\\[4] = 9    H\\[5] = 8\n",
    "  H\\[6] = 7    H\\[7] = 4    H\\[8] = 8\n",
    "the function should return 7. The figure shows one possible arrangement of seven blocks.\n",
    "\n",
    "\n",
    "\n",
    "Write an efficient algorithm for the following assumptions:\n",
    "\n",
    "N is an integer within the range \\[1..100,000];\n",
    "each element of array H is an integer within the range \\[1..1,000,000,000]."
   ]
  },
  {
   "cell_type": "code",
   "execution_count": 2,
   "metadata": {},
   "outputs": [],
   "source": [
    "test = [8, 8, 5, 7, 9, 8, 7, 4, 8]"
   ]
  },
  {
   "cell_type": "code",
   "execution_count": 189,
   "metadata": {},
   "outputs": [
    {
     "output_type": "stream",
     "name": "stdout",
     "text": "height: 8, stack: [], block_cnt: 0\nheight: 8, stack: [8], block_cnt: 1\nheight: 5, stack: [8], block_cnt: 1\nheight: 7, stack: [5], block_cnt: 2\nheight: 9, stack: [5, 7], block_cnt: 3\nheight: 8, stack: [5, 7, 9], block_cnt: 4\nheight: 7, stack: [5, 7, 8], block_cnt: 5\nheight: 4, stack: [5, 7], block_cnt: 5\nheight: 8, stack: [4], block_cnt: 6\n"
    },
    {
     "output_type": "execute_result",
     "data": {
      "text/plain": "7"
     },
     "metadata": {},
     "execution_count": 189
    }
   ],
   "source": [
    "def solution(H):\n",
    "    block_cnt = 0\n",
    "     \n",
    "    stack = []\n",
    "     \n",
    "    for height in H:\n",
    "        print(\"height: {}, stack: {}, block_cnt: {}\".format(height, stack, block_cnt))\n",
    "        # remove all blocks that are bigger than my height\n",
    "        while len(stack) != 0 and stack[-1] > height:\n",
    "            stack.pop()\n",
    "         \n",
    "        if len(stack) != 0 and stack[-1] == height:\n",
    "            # we already paid for this size\n",
    "            pass\n",
    "        else:\n",
    "            # new block is required, push it's size to the stack\n",
    "            block_cnt += 1\n",
    "            stack.append(height)\n",
    "             \n",
    "    return block_cnt\n",
    "solution(test)"
   ]
  },
  {
   "cell_type": "code",
   "execution_count": 190,
   "metadata": {},
   "outputs": [],
   "source": [
    "def func_test(H, blocks=1):\n",
    "    print(H)\n",
    "    if(len(H)==0):\n",
    "        return blocks-1\n",
    "\n",
    "    top = H[0]\n",
    "    aux = []\n",
    "\n",
    "    for h in H:\n",
    "        print(\"h: {}, top: {}, aux: {}, block:{}\".format(h, top, aux, blocks))\n",
    "        if(h==top):\n",
    "            continue\n",
    "        elif(h > top):\n",
    "            aux.append(h) \n",
    "        else:\n",
    "            blocks = func_test(aux, blocks+1)\n",
    "            aux=[h]\n",
    "            top = h\n",
    "\n",
    "    if(len(aux)!=0):\n",
    "        print('not empty')\n",
    "        blocks = func_test(aux, blocks+1)\n",
    "    print(\"end loop\")\n",
    "    #print(\"h: {}, top: {}, aux: {}, block:{}\".format(h, top, aux, blocks))\n",
    "        \n",
    "    \n",
    "    return blocks\n"
   ]
  },
  {
   "cell_type": "code",
   "execution_count": 183,
   "metadata": {},
   "outputs": [
    {
     "output_type": "stream",
     "name": "stdout",
     "text": "[8, 8, 5, 7, 9, 8, 7, 4, 8]\nh: 8, top: 8, aux: [], block:1\nh: 8, top: 8, aux: [], block:1\nh: 5, top: 8, aux: [], block:1\n[]\nh: 7, top: 5, aux: [5], block:2\nh: 9, top: 5, aux: [5, 7], block:2\nh: 8, top: 5, aux: [5, 7, 9], block:2\nh: 7, top: 5, aux: [5, 7, 9, 8], block:2\nh: 4, top: 5, aux: [5, 7, 9, 8, 7], block:2\n[5, 7, 9, 8, 7]\nh: 5, top: 5, aux: [], block:3\nh: 7, top: 5, aux: [], block:3\nh: 9, top: 5, aux: [7], block:3\nh: 8, top: 5, aux: [7, 9], block:3\nh: 7, top: 5, aux: [7, 9, 8], block:3\nh: 8, top: 4, aux: [4], block:3\n"
    },
    {
     "output_type": "execute_result",
     "data": {
      "text/plain": "3"
     },
     "metadata": {},
     "execution_count": 183
    }
   ],
   "source": [
    "func_test([8, 8, 5, 7, 9, 8, 7, 4, 8])"
   ]
  },
  {
   "cell_type": "code",
   "execution_count": 184,
   "metadata": {},
   "outputs": [
    {
     "output_type": "stream",
     "name": "stdout",
     "text": "[5, 7, 9, 8, 7]\nh: 5, top: 5, aux: [], block:1\nh: 7, top: 5, aux: [], block:1\nh: 9, top: 5, aux: [7], block:1\nh: 8, top: 5, aux: [7, 9], block:1\nh: 7, top: 5, aux: [7, 9, 8], block:1\n"
    },
    {
     "output_type": "execute_result",
     "data": {
      "text/plain": "1"
     },
     "metadata": {},
     "execution_count": 184
    }
   ],
   "source": [
    "func_test([5, 7, 9, 8, 7])"
   ]
  },
  {
   "cell_type": "code",
   "execution_count": 185,
   "metadata": {},
   "outputs": [
    {
     "output_type": "stream",
     "name": "stdout",
     "text": "[9, 8]\nh: 9, top: 9, aux: [], block:1\nh: 8, top: 9, aux: [], block:1\n[]\n"
    },
    {
     "output_type": "execute_result",
     "data": {
      "text/plain": "2"
     },
     "metadata": {},
     "execution_count": 185
    }
   ],
   "source": [
    "func_test([9, 8])"
   ]
  },
  {
   "cell_type": "code",
   "execution_count": 187,
   "metadata": {},
   "outputs": [
    {
     "output_type": "stream",
     "name": "stdout",
     "text": "[9, 9]\nh: 9, top: 9, aux: [], block:1\nh: 9, top: 9, aux: [], block:1\n"
    },
    {
     "output_type": "execute_result",
     "data": {
      "text/plain": "1"
     },
     "metadata": {},
     "execution_count": 187
    }
   ],
   "source": [
    "func_test([9, 9])"
   ]
  },
  {
   "cell_type": "code",
   "execution_count": null,
   "metadata": {},
   "outputs": [],
   "source": []
  }
 ],
 "metadata": {
  "language_info": {
   "codemirror_mode": {
    "name": "ipython",
    "version": 3
   },
   "file_extension": ".py",
   "mimetype": "text/x-python",
   "name": "python",
   "nbconvert_exporter": "python",
   "pygments_lexer": "ipython3",
   "version": "3.7.6-final"
  },
  "orig_nbformat": 2,
  "kernelspec": {
   "name": "python3",
   "display_name": "Python 3"
  }
 },
 "nbformat": 4,
 "nbformat_minor": 2
}