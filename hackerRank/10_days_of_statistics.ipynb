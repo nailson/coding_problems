{
 "cells": [
  {
   "cell_type": "markdown",
   "metadata": {
    "tags": []
   },
   "source": [
    "# 10 Days of Statistics\n",
    "https://www.hackerrank.com/domains/tutorials/10-days-of-statistics\n"
   ]
  },
  {
   "cell_type": "markdown",
   "metadata": {},
   "source": [
    "## Day 0 - Mean, Median and Mode\n",
    "\n",
    "* Objective: In this challenge, we practice calculating the mean, median, and mode. Check out the Tutorial tab for learning materials and an instructional video!\n",
    "\n",
    "* Task: Given an array, , of  integers, calculate and print the respective mean, median, and mode on separate lines. If your array contains more than one modal value, choose the numerically smallest one."
   ]
  },
  {
   "cell_type": "code",
   "execution_count": 2,
   "metadata": {
    "tags": []
   },
   "outputs": [
    {
     "output_type": "stream",
     "name": "stdout",
     "text": "43900.6\n44627.5\n4978\n"
    }
   ],
   "source": [
    "from math import floor, ceil\n",
    "\n",
    "def mean_func(input_list, n):\n",
    "    return sum(input_list)/n\n",
    "\n",
    "def median_func(input_list, n):\n",
    "    n = n-1\n",
    "    input_list = sorted(input_list)\n",
    "    return (input_list[floor(n/2)]+input_list[ceil(n/2)])/2\n",
    "\n",
    "def mode_func(input_list, n):\n",
    "    mydict = {}\n",
    "    for i in input_list:\n",
    "        if i in mydict.keys():\n",
    "            mydict[i]=mydict[i]+1\n",
    "        else:\n",
    "            mydict[i]=1\n",
    "    return  sorted(mydict.items(), key=lambda kv:(-kv[1], kv[0]))[0][0]\n",
    "\n",
    "n= 10\n",
    "input_list = list(map(int, '64630 11735 14216 99233 14470 4978 73429 38120 51135 67060'.strip().split(' ')))\n",
    "\n",
    "mean_result = mean_func(input_list, n)\n",
    "median_result = median_func(input_list, n)\n",
    "mode_result = mode_func(input_list, n)\n",
    "\n",
    "print('{0}\\n{1}\\n{2}'.format(mean_result, median_result, mode_result))"
   ]
  },
  {
   "cell_type": "markdown",
   "metadata": {},
   "source": [
    "## Day 0 - Weighted Mean\n",
    "\n",
    "* Objective: In the previous challenge, we calculated a mean. In this challenge, we practice calculating a weighted mean. Check out the Tutorial tab for learning materials and an instructional video!\n",
    "\n",
    "* Task: Given an array, , of  integers and an array, , representing the respective weights of 's elements, calculate and print the weighted mean of 's elements. Your answer should be rounded to a scale of  decimal place (i.e.,  format)."
   ]
  },
  {
   "cell_type": "code",
   "execution_count": 3,
   "metadata": {
    "tags": []
   },
   "outputs": [
    {
     "output_type": "stream",
     "name": "stdout",
     "text": "32.0\n"
    }
   ],
   "source": [
    "def weighted_mean(input_list, weight_list, n):\n",
    "    weighted_sum = 0\n",
    "    for i in range(0,n):\n",
    "        weighted_sum=weighted_sum+(input_list[i]*weight_list[i])\n",
    "    return weighted_sum/sum(weight_list)\n",
    "\n",
    "n=5\n",
    "input_list=list(map(int, '10 40 30 50 20'.strip().split(' ')))\n",
    "weight_list=list(map(int, '1 2 3 4 5'.strip().split(' ')))\n",
    "\n",
    "print(\"{0:.1f}\".format(weighted_mean(input_list, weight_list, n)))"
   ]
  },
  {
   "cell_type": "markdown",
   "metadata": {},
   "source": [
    "## Day 1 - Standard Deviation\n",
    "\n",
    "* Objective:\n",
    "In this challenge, we practice calculating standard deviation. Check out the Tutorial tab for learning materials and an instructional video!\n",
    "\n",
    "* Task:\n",
    "Given an array, , of  integers, calculate and print the standard deviation. Your answer should be in decimal form, rounded to a scale of  decimal place (i.e.,  format). An error margin of  will be tolerated for the standard deviation.\n"
   ]
  },
  {
   "cell_type": "code",
   "execution_count": null,
   "metadata": {},
   "outputs": [],
   "source": [
    "from math import sqrt, pow\n",
    "\n",
    "def mean_func(input_list, n):\n",
    "    return sum(input_list)/n\n",
    "\n",
    "def standard_deviation_func(input_list, n):\n",
    "    mean = mean_func(input_list, n)\n",
    "    variance = 0\n",
    "    for item in input_list:\n",
    "        variance += pow(item - mean, 2)\n",
    "    variance = variance/n\n",
    "    return sqrt(variance)\n",
    "\n",
    "n=int(input())\n",
    "input_list=list(map(int, input().strip().split(' ')))\n",
    "\n",
    "sd = standard_deviation_func(input_list, n)\n",
    "print(\"{0:.1f}\".format(sd))"
   ]
  },
  {
   "cell_type": "markdown",
   "metadata": {},
   "source": [
    "## Day 4: Geometric Distribution I\n",
    "\n",
    "* Objective: In this challenge, we learn about geometric distributions. Check out the Tutorial tab for learning materials!\n",
    "\n",
    "* Task: The probability that a machine produces a defective product is . What is the probability that the  defect is found during the  inspection?"
   ]
  },
  {
   "cell_type": "code",
   "execution_count": null,
   "metadata": {},
   "outputs": [],
   "source": [
    "def geometric_distribution(n, p):\n",
    "    return ((1-p)**(n-1))*p\n",
    "\n",
    "a, b = 1, 2\n",
    "n = int(5)\n",
    "print('{:.3f}'.format(geometric_distribution(n, a/b)))"
   ]
  },
  {
   "cell_type": "markdown",
   "metadata": {},
   "source": [
    "## Day 4: Geometric Distribution II\n",
    "\n",
    "Objective\n",
    "In this challenge, we go further with geometric distributions. We recommend reviewing the Geometric Distribution tutorial before attempting this challenge.\n",
    "\n",
    "Task\n",
    "The probability that a machine produces a defective product is . What is the probability that the  defect is found during the first  inspections?"
   ]
  },
  {
   "cell_type": "code",
   "execution_count": 12,
   "metadata": {
    "tags": []
   },
   "outputs": [
    {
     "output_type": "stream",
     "name": "stdout",
     "text": "0.868\n"
    }
   ],
   "source": [
    "def geometric_distribution2(n, p):\n",
    "    result = 0\n",
    "    for i in range(0,n):\n",
    "        result += ((1-p)**i)*p\n",
    "    return result\n",
    "\n",
    "a, b = 1, 3\n",
    "n = int(5)\n",
    "print('{:.3f}'.format(geometric_distribution2(n, a/b)))"
   ]
  },
  {
   "cell_type": "code",
   "execution_count": 8,
   "metadata": {
    "tags": []
   },
   "outputs": [
    {
     "output_type": "stream",
     "name": "stdout",
     "text": "0.868\n"
    }
   ],
   "source": [
    "print(round(sum([(1 - (1 / 3))**(5 - x) * (1 / 3) for x in range(1, 6)]), 3))"
   ]
  },
  {
   "cell_type": "code",
   "execution_count": 11,
   "metadata": {
    "tags": []
   },
   "outputs": [
    {
     "output_type": "stream",
     "name": "stdout",
     "text": "0.868\n"
    }
   ],
   "source": [
    "print(round(1 - (1 - (1 / 3))**5, 3))"
   ]
  },
  {
   "cell_type": "markdown",
   "metadata": {},
   "source": [
    "## Day 5: Poisson Distribution I\n",
    "\n",
    "* Objective:\n",
    "In this challenge, we learn about Poisson distributions. Check out the Tutorial tab for learning materials!\n",
    "\n",
    "* Task:\n",
    "A random variable, , follows Poisson distribution with mean of . Find the probability with which the random variable  is equal to .\n"
   ]
  },
  {
   "cell_type": "code",
   "execution_count": 15,
   "metadata": {
    "tags": []
   },
   "outputs": [
    {
     "output_type": "stream",
     "name": "stdout",
     "text": "0.067\n"
    }
   ],
   "source": [
    "from math import exp, factorial\n",
    "\n",
    "def poisson_distribution(x, l):\n",
    "    num = exp(-l)*(l**x)\n",
    "    den = factorial(x)\n",
    "    return num/den\n",
    "    \n",
    "l = 2.5\n",
    "x = 5\n",
    "print('{:.3f}'.format(poisson_distribution(x, l)))\n"
   ]
  },
  {
   "cell_type": "markdown",
   "metadata": {},
   "source": [
    "## Day 5: Poisson Distribution II\n",
    "\n",
    "* Objective: \n",
    "In this challenge, we go further with Poisson distributions. We recommend reviewing the previous challenge's Tutorial before attempting this problem.\n",
    "\n",
    "* Task:\n",
    "The manager of a industrial plant is planning to buy a machine of either type A or type B. \n",
    "For each day’s operation:\n",
    "The number of repairs, X, that machine A needs is a Poisson random variable with mean 0.88. The daily cost of operating A is Ca= 160 + 40 X².\n",
    "The number of repairs, Y, that machine B needs is a Poisson random variable with mean 1.55. The daily cost of operating B is Cb = 128 + 40 Y².\n"
   ]
  },
  {
   "cell_type": "code",
   "execution_count": 21,
   "metadata": {
    "tags": []
   },
   "outputs": [
    {
     "output_type": "stream",
     "name": "stdout",
     "text": "226.176\n286.100\n"
    }
   ],
   "source": [
    "def expected_daily_cost(lA, lB):\n",
    "    # E(X^2) = E(X) + E(X)^2 \n",
    "    A_daily_cost = 160 + 40*(lA + lA**2)\n",
    "    B_daily_cost = 128 + 40*(lB + lB**2)\n",
    "\n",
    "    return A_daily_cost, B_daily_cost\n",
    "\n",
    "A, B = expected_daily_cost(0.88, 1.55)\n",
    "print('{:.3f}\\n{:.3f}'.format(A, B))"
   ]
  },
  {
   "cell_type": "markdown",
   "metadata": {},
   "source": [
    "## Day 5: Normal Distribution I\n",
    "\n",
    "* Objective:\n",
    "In this challenge, we learn about normal distributions. Check out the Tutorial tab for learning materials!\n",
    "\n",
    "* Task:\n",
    "In a certain plant, the time taken to assemble a car is a random variable, X, having a normal distribution with a mean of 20 hours and a standard deviation of 2 hours. What is the probability that a car can be assembled at this plant in:\n",
    "Less than 19.5 hours?\n",
    "Between 20 and 22 hours?"
   ]
  },
  {
   "cell_type": "code",
   "execution_count": 1,
   "metadata": {
    "tags": []
   },
   "outputs": [
    {
     "output_type": "stream",
     "name": "stdout",
     "text": "0.401\n0.341\n"
    }
   ],
   "source": [
    "from math import erf, sqrt\n",
    "\n",
    "def normal_cdf_prob(mean, sd, upper_limit):\n",
    "    probability = 1/2*(1 + erf((upper_limit-mean) / (sd*sqrt(2))))\n",
    "    return probability\n",
    "\n",
    "def prob_between_values(mean, sd, condition):\n",
    "    cond_clauses = [float(clauses) for clauses in condition.split(' ')]\n",
    "    if(len(cond_clauses)==1):\n",
    "        return normal_cdf_prob(mean, sd, cond_clauses[0])\n",
    "    else:\n",
    "        probability = normal_cdf_prob(mean, sd, cond_clauses[1]) \n",
    "        probability -= normal_cdf_prob(mean, sd, cond_clauses[0])\n",
    "        return probability\n",
    "\n",
    "print('{:.3f}'.format(prob_between_values(20, 2, '19.5')))\n",
    "print('{:.3f}'.format(prob_between_values(20, 2, '20 22')))\n"
   ]
  },
  {
   "cell_type": "markdown",
   "metadata": {},
   "source": [
    "## Day 5: Normal Distribution II\n",
    "\n",
    "* Objective\n",
    "In this challenge, we go further with normal distributions. We recommend reviewing the previous challenge's Tutorial before attempting this problem.\n",
    "\n",
    "* Task\n",
    "The final grades for a Physics exam taken by a large group of students have a mean of  and a standard deviation of . If we can approximate the distribution of these grades by a normal distribution, what percentage of the students:\n",
    "Scored higher than  (i.e., have a )?\n",
    "Passed the test (i.e., have a )?\n",
    "Failed the test (i.e., have a )?\n",
    "Find and print the answer to each question on a new line, rounded to a scale of  decimal places.\n"
   ]
  },
  {
   "cell_type": "code",
   "execution_count": 2,
   "metadata": {
    "tags": []
   },
   "outputs": [
    {
     "output_type": "stream",
     "name": "stdout",
     "text": "15.87\n84.13\n15.87\n"
    }
   ],
   "source": [
    "from math import erf, sqrt\n",
    "\n",
    "def normal_cdf_prob(mean, sd, upper_limit):\n",
    "    probability = 1/2*(1 + erf((upper_limit-mean) / (sd*sqrt(2))))\n",
    "    return probability\n",
    "\n",
    "def prob_between_values(mean, sd, condition):\n",
    "    cond_clauses = [float(clauses) for clauses in condition.split(' ')]\n",
    "    if(len(cond_clauses)==1):\n",
    "        return normal_cdf_prob(mean, sd, cond_clauses[0])\n",
    "    else:\n",
    "        probability = normal_cdf_prob(mean, sd, cond_clauses[1]) \n",
    "        probability -= normal_cdf_prob(mean, sd, cond_clauses[0])\n",
    "        return probability\n",
    "\n",
    "print('{:.2f}'.format((1 - prob_between_values(70, 10, '80'))*100))\n",
    "print('{:.2f}'.format((1 - prob_between_values(70, 10, '60'))*100))\n",
    "print('{:.2f}'.format((prob_between_values(70, 10, '60'))*100))\n"
   ]
  },
  {
   "cell_type": "code",
   "execution_count": null,
   "metadata": {},
   "outputs": [],
   "source": [
    "Objective\n",
    "In this challenge, we practice solving problems based on the Central Limit Theorem. Check out the Tutorial tab for learning materials!\n",
    "\n",
    "Task\n",
    "A large elevator can transport a maximum of  pounds. Suppose a load of cargo containing  boxes must be transported via the elevator. The box weight of this type of cargo follows a distribution with a mean of  pounds and a standard deviation of  pounds. Based on this information, what is the probability that all  boxes can be safely loaded into the freight elevator and transported?"
   ]
  }
 ],
 "metadata": {
  "language_info": {
   "codemirror_mode": {
    "name": "ipython",
    "version": 3
   },
   "file_extension": ".py",
   "mimetype": "text/x-python",
   "name": "python",
   "nbconvert_exporter": "python",
   "pygments_lexer": "ipython3",
   "version": "3.7.6-final"
  },
  "orig_nbformat": 2,
  "kernelspec": {
   "name": "python3",
   "display_name": "Python 3"
  }
 },
 "nbformat": 4,
 "nbformat_minor": 2
}