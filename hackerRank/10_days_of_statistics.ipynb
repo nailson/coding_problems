{
 "cells": [
  {
   "cell_type": "markdown",
   "metadata": {
    "tags": []
   },
   "source": [
    "# 10 Days of Statistics\n",
    "https://www.hackerrank.com/domains/tutorials/10-days-of-statistics\n"
   ]
  },
  {
   "cell_type": "markdown",
   "metadata": {},
   "source": [
    "## Day 0 - Mean, Median and Mode\n",
    "\n",
    "* Objective: In this challenge, we practice calculating the mean, median, and mode. Check out the Tutorial tab for learning materials and an instructional video!\n",
    "\n",
    "* Task: Given an array, , of  integers, calculate and print the respective mean, median, and mode on separate lines. If your array contains more than one modal value, choose the numerically smallest one."
   ]
  },
  {
   "cell_type": "code",
   "execution_count": 2,
   "metadata": {
    "tags": []
   },
   "outputs": [
    {
     "output_type": "stream",
     "name": "stdout",
     "text": "43900.6\n44627.5\n4978\n"
    }
   ],
   "source": [
    "from math import floor, ceil\n",
    "\n",
    "def mean_func(input_list, n):\n",
    "    return sum(input_list)/n\n",
    "\n",
    "def median_func(input_list, n):\n",
    "    n = n-1\n",
    "    input_list = sorted(input_list)\n",
    "    return (input_list[floor(n/2)]+input_list[ceil(n/2)])/2\n",
    "\n",
    "def mode_func(input_list, n):\n",
    "    mydict = {}\n",
    "    for i in input_list:\n",
    "        if i in mydict.keys():\n",
    "            mydict[i]=mydict[i]+1\n",
    "        else:\n",
    "            mydict[i]=1\n",
    "    return  sorted(mydict.items(), key=lambda kv:(-kv[1], kv[0]))[0][0]\n",
    "\n",
    "n= 10\n",
    "input_list = list(map(int, '64630 11735 14216 99233 14470 4978 73429 38120 51135 67060'.strip().split(' ')))\n",
    "\n",
    "mean_result = mean_func(input_list, n)\n",
    "median_result = median_func(input_list, n)\n",
    "mode_result = mode_func(input_list, n)\n",
    "\n",
    "print('{0}\\n{1}\\n{2}'.format(mean_result, median_result, mode_result))"
   ]
  },
  {
   "cell_type": "markdown",
   "metadata": {},
   "source": [
    "## Day 0 - Weighted Mean\n",
    "\n",
    "* Objective: In the previous challenge, we calculated a mean. In this challenge, we practice calculating a weighted mean. Check out the Tutorial tab for learning materials and an instructional video!\n",
    "\n",
    "* Task: Given an array, , of  integers and an array, , representing the respective weights of 's elements, calculate and print the weighted mean of 's elements. Your answer should be rounded to a scale of  decimal place (i.e.,  format)."
   ]
  },
  {
   "cell_type": "code",
   "execution_count": 3,
   "metadata": {
    "tags": []
   },
   "outputs": [
    {
     "output_type": "stream",
     "name": "stdout",
     "text": "32.0\n"
    }
   ],
   "source": [
    "def weighted_mean(input_list, weight_list, n):\n",
    "    weighted_sum = 0\n",
    "    for i in range(0,n):\n",
    "        weighted_sum=weighted_sum+(input_list[i]*weight_list[i])\n",
    "    return weighted_sum/sum(weight_list)\n",
    "\n",
    "n=5\n",
    "input_list=list(map(int, '10 40 30 50 20'.strip().split(' ')))\n",
    "weight_list=list(map(int, '1 2 3 4 5'.strip().split(' ')))\n",
    "\n",
    "print(\"{0:.1f}\".format(weighted_mean(input_list, weight_list, n)))"
   ]
  },
  {
   "cell_type": "markdown",
   "metadata": {},
   "source": [
    "* Objective: In this challenge, we learn about geometric distributions. Check out the Tutorial tab for learning materials!\n",
    "\n",
    "* Task: The probability that a machine produces a defective product is . What is the probability that the  defect is found during the  inspection?"
   ]
  },
  {
   "cell_type": "code",
   "execution_count": null,
   "metadata": {},
   "outputs": [],
   "source": [
    "def geometric_distribution(n, p):\n",
    "    return ((1-p)**(n-1))*p\n",
    "\n",
    "a, b = 1, 2\n",
    "n = int(5)\n",
    "print('{:.3f}'.format(geometric_distribution(n, a/b)))"
   ]
  },
  {
   "cell_type": "markdown",
   "metadata": {},
   "source": [
    "Objective\n",
    "In this challenge, we go further with geometric distributions. We recommend reviewing the Geometric Distribution tutorial before attempting this challenge.\n",
    "\n",
    "Task\n",
    "The probability that a machine produces a defective product is . What is the probability that the  defect is found during the first  inspections?"
   ]
  },
  {
   "cell_type": "code",
   "execution_count": 12,
   "metadata": {
    "tags": []
   },
   "outputs": [
    {
     "output_type": "stream",
     "name": "stdout",
     "text": "0.868\n"
    }
   ],
   "source": [
    "def geometric_distribution2(n, p):\n",
    "    result = 0\n",
    "    for i in range(0,n):\n",
    "        result += ((1-p)**i)*p\n",
    "    return result\n",
    "\n",
    "a, b = 1, 3\n",
    "n = int(5)\n",
    "print('{:.3f}'.format(geometric_distribution2(n, a/b)))"
   ]
  },
  {
   "cell_type": "code",
   "execution_count": 8,
   "metadata": {
    "tags": []
   },
   "outputs": [
    {
     "output_type": "stream",
     "name": "stdout",
     "text": "0.868\n"
    }
   ],
   "source": [
    "print(round(sum([(1 - (1 / 3))**(5 - x) * (1 / 3) for x in range(1, 6)]), 3))"
   ]
  },
  {
   "cell_type": "code",
   "execution_count": 11,
   "metadata": {
    "tags": []
   },
   "outputs": [
    {
     "output_type": "stream",
     "name": "stdout",
     "text": "0.868\n"
    }
   ],
   "source": [
    "print(round(1 - (1 - (1 / 3))**5, 3))"
   ]
  }
 ],
 "metadata": {
  "language_info": {
   "codemirror_mode": {
    "name": "ipython",
    "version": 3
   },
   "file_extension": ".py",
   "mimetype": "text/x-python",
   "name": "python",
   "nbconvert_exporter": "python",
   "pygments_lexer": "ipython3",
   "version": "3.7.6-final"
  },
  "orig_nbformat": 2,
  "kernelspec": {
   "name": "python3",
   "display_name": "Python 3"
  }
 },
 "nbformat": 4,
 "nbformat_minor": 2
}