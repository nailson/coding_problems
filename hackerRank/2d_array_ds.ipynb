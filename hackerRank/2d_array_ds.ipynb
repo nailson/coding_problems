{
 "cells": [
  {
   "cell_type": "markdown",
   "metadata": {},
   "source": [
    "# 2D Array DS\n",
    "\n",
    "Function Description\n",
    "\n",
    "Complete the function hourglassSum in the editor below. It should return an integer, the maximum hourglass sum in the array.\n",
    "\n",
    "hourglassSum has the following parameter(s):\n",
    "\n",
    "arr: an array of integers\n",
    "Input Format\n",
    "\n",
    "Each of the  lines of inputs  contains  space-separated integers .\n",
    "\n",
    "Constraints\n",
    "\n",
    "Output Format\n",
    "\n",
    "Print the largest (maximum) hourglass sum found in .\n",
    "\n",
    "Sample Input\n",
    "\n",
    "1 1 1 0 0 0\n",
    "0 1 0 0 0 0\n",
    "1 1 1 0 0 0\n",
    "0 0 2 4 4 0\n",
    "0 0 0 2 0 0\n",
    "0 0 1 2 4 0\n",
    "\n",
    "Sample Output\n",
    "\n",
    "19"
   ]
  },
  {
   "cell_type": "code",
   "execution_count": 2,
   "metadata": {},
   "outputs": [],
   "source": [
    "arr = [[1, 1, 1, 0, 0, 0], \n",
    "       [0, 1, 0, 0, 0, 0], \n",
    "       [1, 1, 1, 0, 0, 0], \n",
    "       [0, 0, 2, 4, 4, 0], \n",
    "       [0, 0, 0, 2, 0, 0], \n",
    "       [0, 0, 1, 2, 4, 0]]"
   ]
  },
  {
   "cell_type": "code",
   "execution_count": 6,
   "metadata": {},
   "outputs": [
    {
     "output_type": "execute_result",
     "data": {
      "text/plain": "5"
     },
     "metadata": {},
     "execution_count": 6
    }
   ],
   "source": [
    "x = [1,2,3,4]\n",
    "sum(x[1:3])\n"
   ]
  },
  {
   "cell_type": "code",
   "execution_count": 12,
   "metadata": {},
   "outputs": [
    {
     "output_type": "stream",
     "name": "stdout",
     "text": "19\n"
    }
   ],
   "source": [
    "max = -999999\n",
    "for i in range(0,4):\n",
    "    for j in range(0,4):\n",
    "        value = sum(arr[i][j:j+3]) + arr[i+1][j+1] + sum(arr[i+2][j:j+3])\n",
    "        if(max<value):\n",
    "            max = value\n",
    "print(max)"
   ]
  },
  {
   "cell_type": "code",
   "execution_count": 14,
   "metadata": {},
   "outputs": [],
   "source": [
    "# Complete the hourglassSum function below.\n",
    "def hourglassSum(arr):\n",
    "    max = -999999\n",
    "    for i in range(0,4):\n",
    "        for j in range(0,4):\n",
    "            value = sum(arr[i][j:j+3]) + arr[i+1][j+1] + sum(arr[i+2][j:j+3])\n",
    "            if(max<value):\n",
    "                max = value\n",
    "    return max"
   ]
  },
  {
   "cell_type": "code",
   "execution_count": 15,
   "metadata": {},
   "outputs": [
    {
     "output_type": "execute_result",
     "data": {
      "text/plain": "19"
     },
     "metadata": {},
     "execution_count": 15
    }
   ],
   "source": [
    "hourglassSum(arr)"
   ]
  },
  {
   "cell_type": "code",
   "execution_count": null,
   "metadata": {},
   "outputs": [],
   "source": []
  }
 ],
 "metadata": {
  "language_info": {
   "codemirror_mode": {
    "name": "ipython",
    "version": 3
   },
   "file_extension": ".py",
   "mimetype": "text/x-python",
   "name": "python",
   "nbconvert_exporter": "python",
   "pygments_lexer": "ipython3",
   "version": "3.7.6-final"
  },
  "orig_nbformat": 2,
  "kernelspec": {
   "name": "python3",
   "display_name": "Python 3"
  }
 },
 "nbformat": 4,
 "nbformat_minor": 2
}