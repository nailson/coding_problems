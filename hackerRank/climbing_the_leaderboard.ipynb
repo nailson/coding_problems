{
 "cells": [
  {
   "cell_type": "markdown",
   "id": "057aba37",
   "metadata": {},
   "source": [
    "## [Climbing the Leaderboard](https://www.hackerrank.com/challenges/climbing-the-leaderboard/problem)"
   ]
  },
  {
   "cell_type": "code",
   "execution_count": 87,
   "id": "2a9a8304",
   "metadata": {},
   "outputs": [],
   "source": [
    "#!/bin/python3\n",
    "\n",
    "import math\n",
    "import os\n",
    "import random\n",
    "import re\n",
    "import sys\n",
    "\n",
    "#\n",
    "# Complete the 'climbingLeaderboard' function below.\n",
    "#\n",
    "# The function is expected to return an INTEGER_ARRAY.\n",
    "# The function accepts following parameters:\n",
    "#  1. INTEGER_ARRAY ranked\n",
    "#  2. INTEGER_ARRAY player\n",
    "#\n",
    "  \n",
    "    \n",
    "def climbingLeaderboard(ranked, player):\n",
    "    # Write your code here\n",
    "    ranked_dict = {1: ranked[0]}\n",
    "    response = []\n",
    "    i = 1\n",
    "    for num in ranked:\n",
    "        if num < ranked_dict[i]:\n",
    "            i += 1\n",
    "            ranked_dict[i] = num\n",
    "        \n",
    "    #print(ranked_dict)\n",
    "    for num in player:\n",
    "        pos_found = 0\n",
    "        for i in range(1, len(ranked_dict.keys()) + 1):\n",
    "            if num>=ranked_dict[i]:\n",
    "                pos_found = 1\n",
    "                response.append(i)\n",
    "                break\n",
    "        if pos_found == 0:\n",
    "            response.append(i+1)\n",
    "    return response       \n",
    "\n",
    "def climbingLeaderboard(ranked, player):\n",
    "    unique_ranked = sorted(set(ranked), reverse=True)\n",
    "    ranks = []\n",
    "    j = len(unique_ranked) - 1\n",
    "\n",
    "    for score in player:\n",
    "        while j >= 0 and score >= unique_ranked[j]:\n",
    "            j -= 1\n",
    "        ranks.append(j + 2)  # Add 1 to convert from 0-based index to 1-based rank\n",
    "\n",
    "    return ranks"
   ]
  },
  {
   "cell_type": "code",
   "execution_count": 88,
   "id": "4b0861d5",
   "metadata": {},
   "outputs": [],
   "source": [
    "ranked = [int(i) for i in \"100 100 50 40 40 20 10\".split(' ')]\n",
    "player = [int(i) for i in \"5 25 50 120\".split(' ')]\n",
    "output = [6, 4, 2, 1]"
   ]
  },
  {
   "cell_type": "code",
   "execution_count": 89,
   "id": "dec10efa",
   "metadata": {},
   "outputs": [
    {
     "data": {
      "text/plain": [
       "[6, 4, 2, 1]"
      ]
     },
     "execution_count": 89,
     "metadata": {},
     "output_type": "execute_result"
    }
   ],
   "source": [
    "climbingLeaderboard(ranked, player)"
   ]
  },
  {
   "cell_type": "code",
   "execution_count": 90,
   "id": "2e8764b8",
   "metadata": {},
   "outputs": [
    {
     "data": {
      "text/plain": [
       "[6, 5, 4, 2, 1]"
      ]
     },
     "execution_count": 90,
     "metadata": {},
     "output_type": "execute_result"
    }
   ],
   "source": [
    "ranked = [int(i) for i in \"100 90 90 80 75 60\".split(' ')]\n",
    "player = [int(i) for i in \"50 65 77 90 102\".split(' ')]\n",
    "climbingLeaderboard(ranked, player)"
   ]
  },
  {
   "cell_type": "code",
   "execution_count": 91,
   "id": "60ac2d73",
   "metadata": {},
   "outputs": [
    {
     "data": {
      "text/plain": [
       "[100, 90, 80, 75, 60]"
      ]
     },
     "execution_count": 91,
     "metadata": {},
     "output_type": "execute_result"
    }
   ],
   "source": [
    "sorted(set(ranked), reverse=True)"
   ]
  },
  {
   "cell_type": "code",
   "execution_count": null,
   "id": "daeb6b5f",
   "metadata": {},
   "outputs": [],
   "source": []
  }
 ],
 "metadata": {
  "kernelspec": {
   "display_name": "Python 3 (ipykernel)",
   "language": "python",
   "name": "python3"
  },
  "language_info": {
   "codemirror_mode": {
    "name": "ipython",
    "version": 3
   },
   "file_extension": ".py",
   "mimetype": "text/x-python",
   "name": "python",
   "nbconvert_exporter": "python",
   "pygments_lexer": "ipython3",
   "version": "3.11.5"
  }
 },
 "nbformat": 4,
 "nbformat_minor": 5
}
