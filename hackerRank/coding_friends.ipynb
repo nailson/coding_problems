{
 "cells": [
  {
   "cell_type": "markdown",
   "id": "99f9344d",
   "metadata": {},
   "source": [
    "[Coding Friends](https://www.hackerrank.com/challenges/coding-friends/problem)"
   ]
  },
  {
   "cell_type": "code",
   "execution_count": 5,
   "id": "30a7c81e",
   "metadata": {},
   "outputs": [],
   "source": [
    "\n",
    "\n",
    "#\n",
    "# Complete the 'minNum' function below.\n",
    "#\n",
    "# The function is expected to return an INTEGER.\n",
    "# The function accepts following parameters:\n",
    "#  1. INTEGER samDaily\n",
    "#  2. INTEGER kellyDaily\n",
    "#  3. INTEGER difference\n",
    "#\n",
    "import math\n",
    "def minNum(samDaily, kellyDaily, difference):\n",
    "    # Write your code here\n",
    "    ks_diff = kellyDaily - samDaily\n",
    "    if ks_diff <= 0:\n",
    "        return -1\n",
    "    \n",
    "    return math.ceil((difference + 1) / ks_diff)\n",
    "\n"
   ]
  },
  {
   "cell_type": "code",
   "execution_count": null,
   "id": "1527972e",
   "metadata": {},
   "outputs": [],
   "source": []
  }
 ],
 "metadata": {
  "kernelspec": {
   "display_name": "Python 3 (ipykernel)",
   "language": "python",
   "name": "python3"
  },
  "language_info": {
   "codemirror_mode": {
    "name": "ipython",
    "version": 3
   },
   "file_extension": ".py",
   "mimetype": "text/x-python",
   "name": "python",
   "nbconvert_exporter": "python",
   "pygments_lexer": "ipython3",
   "version": "3.11.5"
  }
 },
 "nbformat": 4,
 "nbformat_minor": 5
}
