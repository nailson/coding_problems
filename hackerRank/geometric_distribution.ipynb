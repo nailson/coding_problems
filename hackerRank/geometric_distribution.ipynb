{
 "cells": [
  {
   "cell_type": "markdown",
   "metadata": {
    "tags": []
   },
   "source": [
    "Objective\n",
    "In this challenge, we learn about geometric distributions. Check out the Tutorial tab for learning materials!\n",
    "\n",
    "Task\n",
    "The probability that a machine produces a defective product is . What is the probability that the  defect is found during the  inspection?"
   ]
  },
  {
   "cell_type": "code",
   "execution_count": null,
   "metadata": {},
   "outputs": [],
   "source": [
    "def geometric_distribution(n, p):\n",
    "    return ((1-p)**(n-1))*p\n",
    "\n",
    "a, b = 1, 2\n",
    "n = int(5)\n",
    "print('{:.3f}'.format(geometric_distribution(n, a/b)))"
   ]
  },
  {
   "cell_type": "markdown",
   "metadata": {},
   "source": [
    "Objective\n",
    "In this challenge, we go further with geometric distributions. We recommend reviewing the Geometric Distribution tutorial before attempting this challenge.\n",
    "\n",
    "Task\n",
    "The probability that a machine produces a defective product is . What is the probability that the  defect is found during the first  inspections?"
   ]
  },
  {
   "cell_type": "code",
   "execution_count": 12,
   "metadata": {
    "tags": []
   },
   "outputs": [
    {
     "output_type": "stream",
     "name": "stdout",
     "text": "0.868\n"
    }
   ],
   "source": [
    "def geometric_distribution2(n, p):\n",
    "    result = 0\n",
    "    for i in range(0,n):\n",
    "        result += ((1-p)**i)*p\n",
    "    return result\n",
    "\n",
    "a, b = 1, 3\n",
    "n = int(5)\n",
    "print('{:.3f}'.format(geometric_distribution2(n, a/b)))"
   ]
  },
  {
   "cell_type": "code",
   "execution_count": 8,
   "metadata": {
    "tags": []
   },
   "outputs": [
    {
     "output_type": "stream",
     "name": "stdout",
     "text": "0.868\n"
    }
   ],
   "source": [
    "print(round(sum([(1 - (1 / 3))**(5 - x) * (1 / 3) for x in range(1, 6)]), 3))"
   ]
  },
  {
   "cell_type": "code",
   "execution_count": 11,
   "metadata": {
    "tags": []
   },
   "outputs": [
    {
     "output_type": "stream",
     "name": "stdout",
     "text": "0.868\n"
    }
   ],
   "source": [
    "print(round(1 - (1 - (1 / 3))**5, 3))"
   ]
  }
 ],
 "metadata": {
  "language_info": {
   "codemirror_mode": {
    "name": "ipython",
    "version": 3
   },
   "file_extension": ".py",
   "mimetype": "text/x-python",
   "name": "python",
   "nbconvert_exporter": "python",
   "pygments_lexer": "ipython3",
   "version": "3.7.6-final"
  },
  "orig_nbformat": 2,
  "kernelspec": {
   "name": "python3",
   "display_name": "Python 3"
  }
 },
 "nbformat": 4,
 "nbformat_minor": 2
}