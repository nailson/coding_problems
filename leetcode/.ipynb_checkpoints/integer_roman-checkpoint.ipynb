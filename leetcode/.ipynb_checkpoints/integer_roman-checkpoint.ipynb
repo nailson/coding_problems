{
 "cells": [
  {
   "cell_type": "markdown",
   "id": "64decf23",
   "metadata": {},
   "source": [
    "# Integer to Roman\n"
   ]
  },
  {
   "cell_type": "code",
   "execution_count": 1,
   "id": "e6e03a83",
   "metadata": {},
   "outputs": [],
   "source": [
    "from math import floor"
   ]
  },
  {
   "cell_type": "code",
   "execution_count": null,
   "id": "d86929fe",
   "metadata": {},
   "outputs": [],
   "source": [
    "class Solution:\n",
    "    def intToRoman(self, num: int) -> str:"
   ]
  },
  {
   "cell_type": "code",
   "execution_count": null,
   "id": "25f229b9",
   "metadata": {},
   "outputs": [],
   "source": []
  },
  {
   "cell_type": "code",
   "execution_count": 2,
   "id": "9fc470c6",
   "metadata": {},
   "outputs": [],
   "source": [
    "romanList = ['M', 'D', 'C', 'L', 'X', 'V', 'I']\n",
    "romanDict = {'M':1000, 'D':500, 'C':100, 'L':50, 'X':10, 'V':5, 'I':1}\n",
    "num = 1994\n",
    "result = \"MCMXCIV\""
   ]
  },
  {
   "cell_type": "code",
   "execution_count": 9,
   "id": "fcf92ce2",
   "metadata": {},
   "outputs": [
    {
     "data": {
      "text/plain": [
       "0"
      ]
     },
     "execution_count": 9,
     "metadata": {},
     "output_type": "execute_result"
    }
   ],
   "source": [
    "1994 % 1"
   ]
  },
  {
   "cell_type": "code",
   "execution_count": 12,
   "id": "9f4df309",
   "metadata": {},
   "outputs": [
    {
     "name": "stdout",
     "output_type": "stream",
     "text": [
      "Key: M, Value: 1000\n",
      "19\n",
      "1\n",
      "0.019\n",
      "\n",
      "Key: D, Value: 500\n",
      "19\n",
      "1\n",
      "0.038\n",
      "\n",
      "Key: C, Value: 100\n",
      "19\n",
      "1\n",
      "0.19\n",
      "\n",
      "Key: L, Value: 50\n",
      "19\n",
      "1\n",
      "0.38\n",
      "\n",
      "Key: X, Value: 10\n",
      "19\n",
      "1\n",
      "1.9\n",
      "X\n",
      "Key: V, Value: 5\n",
      "9\n",
      "9\n",
      "XIX\n",
      "Key: I, Value: 1\n",
      "0\n",
      "0\n",
      "XIX\n"
     ]
    }
   ],
   "source": [
    "romanDict = {'M':1000, 'D':500, 'C':100, 'L':50, 'X':10, 'V':5, 'I':1}\n",
    "romanPrefix = {'M':'C', 'D':'C', 'C':'X', 'L':'X', 'X':'I', 'V':'I'}\n",
    "aux_num = 19\n",
    "listRoman = []\n",
    "previousRoman = ''\n",
    "for roman, value in romanDict.items():\n",
    "    print(f\"Key: {roman}, Value: {value}\")\n",
    "    print(aux_num)\n",
    "    print(str(aux_num)[0])\n",
    "    if str(aux_num)[0] == '9' and previousRoman in ['M', 'C', 'X']:\n",
    "        listRoman += [romanPrefix[previousRoman], previousRoman]\n",
    "        aux_num = aux_num%(romanDict[previousRoman] - romanDict[romanPrefix[previousRoman]] )\n",
    "        print(''.join(listRoman))\n",
    "    elif str(aux_num)[0] == '4' and previousRoman in ['D', 'L', 'V']:\n",
    "            listRoman += [romanPrefix[previousRoman], previousRoman]\n",
    "            aux_num = aux_num%(romanDict[previousRoman] - romanDict[romanPrefix[previousRoman]] )\n",
    "            print(''.join(listRoman))\n",
    "\n",
    "    elif aux_num/value > 0:\n",
    "        listRoman += [roman] * floor(aux_num/value)\n",
    "        print(aux_num/value)\n",
    "        aux_num = aux_num%value\n",
    "        print(''.join(listRoman))\n",
    "    previousRoman = roman\n",
    "    \n",
    "print(''.join(listRoman))"
   ]
  },
  {
   "cell_type": "code",
   "execution_count": 18,
   "id": "6ba80b86",
   "metadata": {},
   "outputs": [
    {
     "data": {
      "text/plain": [
       "1"
      ]
     },
     "execution_count": 18,
     "metadata": {},
     "output_type": "execute_result"
    }
   ],
   "source": [
    "floor(1994/1000)"
   ]
  },
  {
   "cell_type": "code",
   "execution_count": 36,
   "id": "cb7ace8f",
   "metadata": {},
   "outputs": [
    {
     "data": {
      "text/plain": [
       "'1'"
      ]
     },
     "execution_count": 36,
     "metadata": {},
     "output_type": "execute_result"
    }
   ],
   "source": [
    "str(1999)[0]"
   ]
  },
  {
   "cell_type": "code",
   "execution_count": 22,
   "id": "e94a1624",
   "metadata": {},
   "outputs": [
    {
     "data": {
      "text/plain": [
       "1.994"
      ]
     },
     "execution_count": 22,
     "metadata": {},
     "output_type": "execute_result"
    }
   ],
   "source": [
    "aux_num = num\n",
    "aux_num/1000"
   ]
  },
  {
   "cell_type": "code",
   "execution_count": null,
   "id": "64ffdcaa",
   "metadata": {},
   "outputs": [],
   "source": [
    "num = 3"
   ]
  },
  {
   "cell_type": "code",
   "execution_count": null,
   "id": "effa4797",
   "metadata": {},
   "outputs": [],
   "source": [
    "num = 58"
   ]
  },
  {
   "cell_type": "code",
   "execution_count": null,
   "id": "a45bea12",
   "metadata": {},
   "outputs": [],
   "source": [
    "num = 1994"
   ]
  },
  {
   "cell_type": "code",
   "execution_count": 24,
   "id": "4744980d",
   "metadata": {},
   "outputs": [
    {
     "name": "stdout",
     "output_type": "stream",
     "text": [
      "Key: M, Value: 1000\n",
      "Key: D, Value: 500\n",
      "Key: C, Value: 100\n",
      "Key: L, Value: 50\n",
      "Key: X, Value: 10\n",
      "Key: V, Value: 5\n",
      "Key: I, Value: 1\n",
      "Key: CM, Value: 900\n",
      "Key: CD, Value: 400\n",
      "Key: XC, Value: 90\n",
      "Key: XL, Value: 40\n",
      "Key: IX, Value: 9\n",
      "Key: IV, Value: 4\n",
      "MMMMMMMMMMMMMMCDXLIV\n"
     ]
    }
   ],
   "source": [
    "romanDict = {'M':1000, 'D':500, 'C':100, 'L':50, 'X':10, 'V':5, 'I':1, 'CM':900, 'CD':400, 'XC':90, 'XL':40, 'IX':9, 'IV':4}\n",
    "roman9Prefix = {'D':'CM', 'L':'XC', 'V':'IX', 'C':'CD', 'X':'XL', 'I':'IV'}\n",
    "\n",
    "aux_num = 14444\n",
    "listRoman = []\n",
    "previousRoman = ''\n",
    "for roman, value in romanDict.items():\n",
    "    print(f\"Key: {roman}, Value: {value}\")\n",
    "    if aux_num/value >= 1:\n",
    "        if str(aux_num)[0] in ['9', '4'] and roman in ['D', 'C', 'L', 'X', 'V', 'I']:\n",
    "            listRoman += romanPrefix[roman]\n",
    "            aux_num = aux_num%romanDict[romanPrefix[roman]]\n",
    "        else:\n",
    "            listRoman += [roman] * floor(aux_num/value)\n",
    "            aux_num = aux_num%value\n",
    "\n",
    "    previousRoman = roman\n",
    "    \n",
    "print(''.join(listRoman))"
   ]
  },
  {
   "cell_type": "code",
   "execution_count": null,
   "id": "1dcb9dde",
   "metadata": {},
   "outputs": [],
   "source": [
    "result = \"MCMXCIV\""
   ]
  },
  {
   "cell_type": "code",
   "execution_count": 13,
   "id": "15394c63",
   "metadata": {},
   "outputs": [
    {
     "data": {
      "text/plain": [
       "1.98"
      ]
     },
     "execution_count": 13,
     "metadata": {},
     "output_type": "execute_result"
    }
   ],
   "source": [
    "990/500"
   ]
  },
  {
   "cell_type": "code",
   "execution_count": 1,
   "id": "ff5ff107",
   "metadata": {},
   "outputs": [],
   "source": [
    "def intToRoman(num: int) -> str:\n",
    "    numbers = [1000, 900, 500, 400, 100, 90, 50, 40, 10, 9, 5, 4, 1]\n",
    "    symbols = ['M', 'CM', 'D', 'CD', 'C', 'XC', 'L', 'XL', 'X', 'IX', 'V', 'IV', 'I']\n",
    "    \n",
    "    roman = ''\n",
    "    for i in range(len(numbers)):\n",
    "        while num >= numbers[i]:\n",
    "            print(num)\n",
    "            num -= numbers[i]\n",
    "            roman += symbols[i]\n",
    "    \n",
    "    return roman"
   ]
  },
  {
   "cell_type": "code",
   "execution_count": 2,
   "id": "6d2ae843",
   "metadata": {},
   "outputs": [
    {
     "data": {
      "text/plain": [
       "'MCMXCIV'"
      ]
     },
     "execution_count": 2,
     "metadata": {},
     "output_type": "execute_result"
    }
   ],
   "source": [
    "intToRoman(1994)"
   ]
  }
 ],
 "metadata": {
  "kernelspec": {
   "display_name": "Python 3",
   "language": "python",
   "name": "python3"
  },
  "language_info": {
   "codemirror_mode": {
    "name": "ipython",
    "version": 3
   },
   "file_extension": ".py",
   "mimetype": "text/x-python",
   "name": "python",
   "nbconvert_exporter": "python",
   "pygments_lexer": "ipython3",
   "version": "3.8.8"
  },
  "vscode": {
   "interpreter": {
    "hash": "aee8b7b246df8f9039afb4144a1f6fd8d2ca17a180786b69acc140d282b71a49"
   }
  }
 },
 "nbformat": 4,
 "nbformat_minor": 5
}
