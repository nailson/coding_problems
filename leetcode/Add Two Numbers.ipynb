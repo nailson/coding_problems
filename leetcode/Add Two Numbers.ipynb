{
 "cells": [
  {
   "cell_type": "markdown",
   "id": "a185deb4",
   "metadata": {},
   "source": [
    "## [Link to the Leetcode Problem](https://leetcode.com/problems/add-two-numbers/description/)"
   ]
  },
  {
   "cell_type": "code",
   "execution_count": 41,
   "id": "45d19b78",
   "metadata": {},
   "outputs": [],
   "source": [
    "# Definition for singly-linked list.\n",
    "class ListNode:\n",
    "    def __init__(self, val=0, next=None):\n",
    "        self.val = val\n",
    "        self.next = next\n",
    "\n",
    "class Solution:\n",
    "    def addTwoNumbers(self, l1: ListNode, l2: ListNode) -> ListNode:\n",
    "\n",
    "        sum_val = l1.val + l2.val\n",
    "        left = 0\n",
    "        if(sum_val < 10):\n",
    "            result = ListNode(sum_val)\n",
    "        else:\n",
    "            result = ListNode(sum_val - 10)\n",
    "            left = 1\n",
    "        aux1 = l1.next\n",
    "        aux2 = l2.next\n",
    "        aux3 = result\n",
    "        while aux1 is not None:\n",
    "            if aux2 is not None:\n",
    "                sum_val = aux1.val + aux2.val + left\n",
    "                print(sum_val)\n",
    "                if(sum_val < 10):\n",
    "                    aux3.next = ListNode(sum_val)\n",
    "                    left = 0\n",
    "                else:\n",
    "                    aux3.next = ListNode(sum_val - 10)\n",
    "                    left = 1\n",
    "                aux1 = aux1.next\n",
    "                aux2 = aux2.next\n",
    "                aux3 = aux3.next\n",
    "            else:\n",
    "                sum_val = aux1.val + left\n",
    "                if(sum_val < 10):\n",
    "                    aux3.next = ListNode(sum_val)\n",
    "                    left = 0\n",
    "                else:\n",
    "                    aux3.next = ListNode(sum_val - 10)\n",
    "                    left = 1\n",
    "                aux1 = aux1.next\n",
    "                aux3 = aux3.next\n",
    "        while aux2 is not None:\n",
    "            sum_val = aux2.val + left\n",
    "            if(sum_val < 10):\n",
    "                aux3.next = ListNode(sum_val)\n",
    "                left = 0\n",
    "            else:\n",
    "                aux3.next = ListNode(sum_val - 10)\n",
    "                left = 1\n",
    "\n",
    "            aux2 = aux2.next\n",
    "            aux3 = aux3.next\n",
    "        if left > 0:\n",
    "            aux3.next =  ListNode(left)\n",
    "\n",
    "        return result\n",
    "\n"
   ]
  },
  {
   "cell_type": "code",
   "execution_count": 42,
   "id": "a985f1e7",
   "metadata": {},
   "outputs": [
    {
     "data": {
      "text/plain": [
       "[2, 4, 9]"
      ]
     },
     "execution_count": 42,
     "metadata": {},
     "output_type": "execute_result"
    }
   ],
   "source": [
    "def toListNone(list1):\n",
    "    l1_list = ListNode(list1[0])\n",
    "    aux_list = l1_list\n",
    "    for num in list1[1:]:\n",
    "        aux_list.next = ListNode(num)\n",
    "        aux_list = aux_list.next\n",
    "    return l1_list\n",
    "\n",
    "def listNodetoList(listnode):\n",
    "    list1 = []\n",
    "    while listnode:\n",
    "        list1.append(listnode.val)\n",
    "        listnode = listnode.next\n",
    "    return list1\n",
    "\n",
    "listNodetoList(toListNone([2,4,9]))"
   ]
  },
  {
   "cell_type": "code",
   "execution_count": 43,
   "id": "bce7caa1",
   "metadata": {},
   "outputs": [
    {
     "name": "stdout",
     "output_type": "stream",
     "text": [
      "10\n",
      "14\n"
     ]
    },
    {
     "data": {
      "text/plain": [
       "[7, 0, 4, 0, 1]"
      ]
     },
     "execution_count": 43,
     "metadata": {},
     "output_type": "execute_result"
    }
   ],
   "source": [
    "l1 = toListNone([2,4,9])\n",
    "l2 = toListNone([5,6,4,9])\n",
    "\n",
    "listNodetoList(Solution().addTwoNumbers(l1, l2))"
   ]
  },
  {
   "cell_type": "code",
   "execution_count": 44,
   "id": "63c0e782",
   "metadata": {},
   "outputs": [],
   "source": [
    "class Solution:\n",
    "    def addTwoNumbers(self, l1: ListNode, l2: ListNode) -> ListNode:\n",
    "\n",
    "        sum_val = l1.val + l2.val\n",
    "        carry = sum_val//10\n",
    "        result = ListNode(sum_val % 10)\n",
    "        \n",
    "        aux1 = l1.next\n",
    "        aux2 = l2.next\n",
    "        aux3 = result\n",
    "        \n",
    "        while aux1 is not None:\n",
    "            if aux2 is not None:\n",
    "                sum_val = aux1.val + aux2.val + carry\n",
    "                aux3.next = ListNode(sum_val % 10)\n",
    "                carry = sum_val//10\n",
    "                \n",
    "                aux1 = aux1.next\n",
    "                aux2 = aux2.next\n",
    "                aux3 = aux3.next\n",
    "            else:\n",
    "                sum_val = aux1.val + carry\n",
    "                aux3.next = ListNode(sum_val % 10)\n",
    "                carry = sum_val//10\n",
    "                \n",
    "                aux1 = aux1.next\n",
    "                aux3 = aux3.next\n",
    "\n",
    "        while aux2 is not None:\n",
    "            sum_val = aux2.val + carry\n",
    "            aux3.next = ListNode(sum_val % 10)\n",
    "            carry = sum_val//10\n",
    "\n",
    "            aux2 = aux2.next\n",
    "            aux3 = aux3.next\n",
    "            \n",
    "        if carry > 0:\n",
    "            aux3.next =  ListNode(carry)\n",
    "\n",
    "        return result\n"
   ]
  },
  {
   "cell_type": "code",
   "execution_count": 45,
   "id": "f3c72832",
   "metadata": {},
   "outputs": [
    {
     "data": {
      "text/plain": [
       "[7, 0, 4, 0, 1]"
      ]
     },
     "execution_count": 45,
     "metadata": {},
     "output_type": "execute_result"
    }
   ],
   "source": [
    "l1 = toListNone([2,4,9])\n",
    "l2 = toListNone([5,6,4,9])\n",
    "\n",
    "listNodetoList(Solution().addTwoNumbers(l1, l2))"
   ]
  },
  {
   "cell_type": "code",
   "execution_count": null,
   "id": "b01935b3",
   "metadata": {},
   "outputs": [],
   "source": []
  }
 ],
 "metadata": {
  "kernelspec": {
   "display_name": "Python 3",
   "language": "python",
   "name": "python3"
  },
  "language_info": {
   "codemirror_mode": {
    "name": "ipython",
    "version": 3
   },
   "file_extension": ".py",
   "mimetype": "text/x-python",
   "name": "python",
   "nbconvert_exporter": "python",
   "pygments_lexer": "ipython3",
   "version": "3.8.8"
  }
 },
 "nbformat": 4,
 "nbformat_minor": 5
}
