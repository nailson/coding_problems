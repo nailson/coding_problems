{
 "cells": [
  {
   "cell_type": "code",
   "execution_count": null,
   "id": "dbba4b6a",
   "metadata": {},
   "outputs": [],
   "source": []
  },
  {
   "cell_type": "code",
   "execution_count": 28,
   "id": "a985f6bd",
   "metadata": {},
   "outputs": [
    {
     "name": "stdout",
     "output_type": "stream",
     "text": [
      "[4, 3, 2, 1]\n"
     ]
    }
   ],
   "source": [
    "prices = [1,2,3,4,5]\n",
    "profits = []\n",
    "i = 0\n",
    "for i in range(0, len(prices)-1):\n",
    "    initialPrice = prices[i]\n",
    "    sellPrice = 0\n",
    "    for j in range(i+1, len(prices)):\n",
    "        if prices[j]>=prices[i]:\n",
    "            sellPrice = prices[j]\n",
    "            i = j\n",
    "        else: \n",
    "            break\n",
    "    if sellPrice > 0: \n",
    "        profits.append(sellPrice - initialPrice)\n",
    "print(profits)"
   ]
  },
  {
   "cell_type": "code",
   "execution_count": 29,
   "id": "3f86a9cd",
   "metadata": {},
   "outputs": [],
   "source": [
    "from typing import List\n",
    "\n",
    "def maxProfit( prices: List[int]) -> int:\n",
    "    profits = []\n",
    "    for i in range(0, len(prices)-1):\n",
    "        initialPrice = prices[i]\n",
    "        sellPrice = 0\n",
    "        for j in range(i+1, len(prices)):\n",
    "            if prices[j]>=prices[i]:\n",
    "                sellPrice = prices[j]\n",
    "                i = j\n",
    "            else: \n",
    "                if sellPrice > 0: \n",
    "                    profits.append(sellPrice - initialPrice)\n",
    "                break\n",
    "    return sum(profits)"
   ]
  },
  {
   "cell_type": "code",
   "execution_count": 30,
   "id": "d6592e4f",
   "metadata": {},
   "outputs": [
    {
     "data": {
      "text/plain": [
       "7"
      ]
     },
     "execution_count": 30,
     "metadata": {},
     "output_type": "execute_result"
    }
   ],
   "source": [
    "prices = [7,1,5,3,6,4]\n",
    "maxProfit(prices)"
   ]
  },
  {
   "cell_type": "code",
   "execution_count": 31,
   "id": "5d3086b0",
   "metadata": {},
   "outputs": [
    {
     "data": {
      "text/plain": [
       "0"
      ]
     },
     "execution_count": 31,
     "metadata": {},
     "output_type": "execute_result"
    }
   ],
   "source": [
    "prices = [1,2,3,4,5]\n",
    "maxProfit(prices)"
   ]
  },
  {
   "cell_type": "code",
   "execution_count": 36,
   "id": "b7731212",
   "metadata": {},
   "outputs": [
    {
     "ename": "KeyboardInterrupt",
     "evalue": "",
     "output_type": "error",
     "traceback": [
      "\u001b[0;31m---------------------------------------------------------------------------\u001b[0m",
      "\u001b[0;31mKeyboardInterrupt\u001b[0m                         Traceback (most recent call last)",
      "\u001b[0;32m/var/folders/8b/p6rwbqx54gzfxp2n5jm9wfsm0000gn/T/ipykernel_4911/3586297863.py\u001b[0m in \u001b[0;36m<module>\u001b[0;34m\u001b[0m\n\u001b[1;32m      4\u001b[0m \u001b[0;32mwhile\u001b[0m \u001b[0;34m(\u001b[0m\u001b[0mi\u001b[0m\u001b[0;34m<\u001b[0m\u001b[0mlen\u001b[0m\u001b[0;34m(\u001b[0m\u001b[0mprices\u001b[0m\u001b[0;34m)\u001b[0m\u001b[0;34m)\u001b[0m\u001b[0;34m:\u001b[0m\u001b[0;34m\u001b[0m\u001b[0;34m\u001b[0m\u001b[0m\n\u001b[1;32m      5\u001b[0m     \u001b[0minitialPrice\u001b[0m \u001b[0;34m=\u001b[0m \u001b[0mprices\u001b[0m\u001b[0;34m[\u001b[0m\u001b[0mi\u001b[0m\u001b[0;34m]\u001b[0m\u001b[0;34m\u001b[0m\u001b[0;34m\u001b[0m\u001b[0m\n\u001b[0;32m----> 6\u001b[0;31m     \u001b[0msellPrice\u001b[0m \u001b[0;34m=\u001b[0m \u001b[0;36m0\u001b[0m\u001b[0;34m\u001b[0m\u001b[0;34m\u001b[0m\u001b[0m\n\u001b[0m\u001b[1;32m      7\u001b[0m     \u001b[0;32mfor\u001b[0m \u001b[0mj\u001b[0m \u001b[0;32min\u001b[0m \u001b[0mrange\u001b[0m\u001b[0;34m(\u001b[0m\u001b[0mi\u001b[0m\u001b[0;34m+\u001b[0m\u001b[0;36m1\u001b[0m\u001b[0;34m,\u001b[0m \u001b[0mlen\u001b[0m\u001b[0;34m(\u001b[0m\u001b[0mprices\u001b[0m\u001b[0;34m)\u001b[0m\u001b[0;34m)\u001b[0m\u001b[0;34m:\u001b[0m\u001b[0;34m\u001b[0m\u001b[0;34m\u001b[0m\u001b[0m\n\u001b[1;32m      8\u001b[0m         \u001b[0;32mif\u001b[0m \u001b[0mprices\u001b[0m\u001b[0;34m[\u001b[0m\u001b[0mj\u001b[0m\u001b[0;34m]\u001b[0m\u001b[0;34m>=\u001b[0m\u001b[0mprices\u001b[0m\u001b[0;34m[\u001b[0m\u001b[0mi\u001b[0m\u001b[0;34m]\u001b[0m\u001b[0;34m:\u001b[0m\u001b[0;34m\u001b[0m\u001b[0;34m\u001b[0m\u001b[0m\n",
      "\u001b[0;31mKeyboardInterrupt\u001b[0m: "
     ]
    }
   ],
   "source": [
    "prices = [1,2,3,4,5]\n",
    "profits = []\n",
    "i = 0\n",
    "while (i<len(prices)):\n",
    "    initialPrice = prices[i]\n",
    "    sellPrice = 0\n",
    "    for j in range(i+1, len(prices)):\n",
    "        if prices[j]>=prices[i]:\n",
    "            sellPrice = prices[j]\n",
    "            i = j\n",
    "        else: \n",
    "            break\n",
    "    if sellPrice > 0: \n",
    "        i = j\n",
    "        profits.append(sellPrice - initialPrice)\n",
    "print(profits)"
   ]
  }
 ],
 "metadata": {
  "kernelspec": {
   "display_name": "Python 3",
   "language": "python",
   "name": "python3"
  },
  "language_info": {
   "codemirror_mode": {
    "name": "ipython",
    "version": 3
   },
   "file_extension": ".py",
   "mimetype": "text/x-python",
   "name": "python",
   "nbconvert_exporter": "python",
   "pygments_lexer": "ipython3",
   "version": "3.9.12"
  }
 },
 "nbformat": 4,
 "nbformat_minor": 5
}
