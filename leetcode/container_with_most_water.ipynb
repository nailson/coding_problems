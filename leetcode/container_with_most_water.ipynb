{
 "cells": [
  {
   "cell_type": "code",
   "execution_count": 1,
   "id": "441bc875-fa7f-4aeb-8bef-5cfdcc21c84c",
   "metadata": {},
   "outputs": [],
   "source": [
    "height = [1,8,6,2,5,4,8,3,7]"
   ]
  },
  {
   "cell_type": "code",
   "execution_count": 9,
   "id": "7d24cc9b-c70a-4ec6-a1ad-dc2b4af262de",
   "metadata": {},
   "outputs": [
    {
     "name": "stdout",
     "output_type": "stream",
     "text": [
      "49\n"
     ]
    }
   ],
   "source": [
    "max_area = 0\n",
    "for l, h1 in enumerate(height):\n",
    "    for h2 in height[l+1:]:\n",
    "        area = (l+1)*min(h1, h2)\n",
    "        if max_area < area:\n",
    "            max_area = area\n",
    "print(max_area)\n"
   ]
  },
  {
   "cell_type": "code",
   "execution_count": 30,
   "id": "1458a1fd-fc53-46bc-b8c6-ef3963abc368",
   "metadata": {},
   "outputs": [
    {
     "name": "stdout",
     "output_type": "stream",
     "text": [
      "49\n"
     ]
    }
   ],
   "source": [
    "max_area = 0\n",
    "for l, h1 in enumerate(height):\n",
    "    for h2 in reversed(height[l+1:]):\n",
    "        area = (l+1)*min(h1, h2)\n",
    "        if max_area < area:\n",
    "            max_area = area\n",
    "print(max_area)\n"
   ]
  },
  {
   "cell_type": "code",
   "execution_count": 34,
   "id": "c41a240a-9675-42a6-9fb2-ba9929de9493",
   "metadata": {},
   "outputs": [
    {
     "name": "stdout",
     "output_type": "stream",
     "text": [
      "49\n"
     ]
    }
   ],
   "source": [
    "max_area = 0\n",
    "right = len(height) - 1\n",
    "left = 0\n",
    "\n",
    "while (right > left):\n",
    "    max_area = max(max_area, (right-left)*min(height[right], height[left]))\n",
    "    if height[right]> height[left]:\n",
    "        left += 1\n",
    "    else:\n",
    "        right -= 1\n",
    "print(max_area)\n"
   ]
  },
  {
   "cell_type": "markdown",
   "id": "d9a35704-818c-4820-a8ba-dfa2590a8bc3",
   "metadata": {},
   "source": [
    "## Solution"
   ]
  },
  {
   "cell_type": "code",
   "execution_count": 35,
   "id": "21156184-16b1-447e-9442-1fd98a2341db",
   "metadata": {},
   "outputs": [],
   "source": [
    "from typing import List\n",
    "\n",
    "class Solution:\n",
    "    def maxArea(self, height: List[int]) -> int:\n",
    "        max_area = 0\n",
    "        for start, h1 in enumerate(height):\n",
    "            for l, h2 in enumerate(height[start:]):\n",
    "                area = l*min(h1, h2)\n",
    "                if max_area < area:\n",
    "                    max_area = area\n",
    "        return max_area\n",
    "    \n",
    "    def maxArea2(self, height: List[int]) -> int:\n",
    "        max_area = 0\n",
    "        for start, h1 in enumerate(height):\n",
    "            for l, h2 in reversed(list(enumerate(height[start:]))):\n",
    "                area = l*min(h1, h2)\n",
    "                if max_area < area:\n",
    "                    max_area = area\n",
    "        return max_area\n",
    "    \n",
    "    def maxArea3(self, height: List[int]) -> int:\n",
    "        max_area = 0\n",
    "        right = len(height) - 1\n",
    "        left = 0\n",
    "\n",
    "        while (right > left):\n",
    "            max_area = max(max_area, (right-left)*min(height[right], height[left]))\n",
    "            if height[right]> height[left]:\n",
    "                left += 1\n",
    "            else:\n",
    "                right -= 1\n",
    "        return max_area\n",
    "\n",
    "        "
   ]
  },
  {
   "cell_type": "code",
   "execution_count": 36,
   "id": "0e4c3453-66ea-44c2-ae42-9befe066e8af",
   "metadata": {},
   "outputs": [
    {
     "data": {
      "text/plain": [
       "49"
      ]
     },
     "execution_count": 36,
     "metadata": {},
     "output_type": "execute_result"
    }
   ],
   "source": [
    "height = [4,3,2,1,4]\n",
    "height = [1,8,6,2,5,4,8,3,7]\n",
    "sol = Solution()\n",
    "sol.maxArea3(height)"
   ]
  },
  {
   "cell_type": "code",
   "execution_count": null,
   "id": "1ea1069b-d38f-40f0-9e87-f628b1b9c5a2",
   "metadata": {},
   "outputs": [],
   "source": []
  }
 ],
 "metadata": {
  "kernelspec": {
   "display_name": "python3.6",
   "language": "python",
   "name": "python3.6"
  },
  "language_info": {
   "codemirror_mode": {
    "name": "ipython",
    "version": 3
   },
   "file_extension": ".py",
   "mimetype": "text/x-python",
   "name": "python",
   "nbconvert_exporter": "python",
   "pygments_lexer": "ipython3",
   "version": "3.6.13"
  }
 },
 "nbformat": 4,
 "nbformat_minor": 5
}
