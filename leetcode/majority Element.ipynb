{
 "cells": [
  {
   "cell_type": "markdown",
   "id": "9dc0ad7a",
   "metadata": {},
   "source": [
    "## 169. Majority Element\n",
    "[link](https://leetcode.com/problems/majority-element/?envType=study-plan-v2&envId=top-interview-150)"
   ]
  },
  {
   "cell_type": "code",
   "execution_count": null,
   "id": "ea38d3db",
   "metadata": {},
   "outputs": [],
   "source": [
    "from math import floor\n",
    "\n",
    "class Solution:\n",
    "    def majorityElement(self, nums: List[int]) -> int:\n",
    "        sortedNum: List[int] = nums.copy()\n",
    "        sortedNum.sort()\n",
    "        return sortedNum[floor(len(sortedNum)/2)]"
   ]
  }
 ],
 "metadata": {
  "kernelspec": {
   "display_name": "python3.6",
   "language": "python",
   "name": "python3.6"
  },
  "language_info": {
   "codemirror_mode": {
    "name": "ipython",
    "version": 3
   },
   "file_extension": ".py",
   "mimetype": "text/x-python",
   "name": "python",
   "nbconvert_exporter": "python",
   "pygments_lexer": "ipython3",
   "version": "3.6.13"
  }
 },
 "nbformat": 4,
 "nbformat_minor": 5
}
