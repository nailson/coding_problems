{
 "cells": [
  {
   "cell_type": "markdown",
   "id": "66b747e7",
   "metadata": {},
   "source": [
    "## 169. Majority Element\n",
    "[link]()"
   ]
  },
  {
   "cell_type": "code",
   "execution_count": null,
   "id": "1f751567",
   "metadata": {},
   "outputs": [],
   "source": [
    "from math import floor\n",
    "\n",
    "class Solution:\n",
    "    def majorityElement(self, nums: List[int]) -> int:\n",
    "        sortedNum: List[int] = nums.copy()\n",
    "        sortedNum.sort()\n",
    "        return sortedNum[floor(len(sortedNum)/2)]"
   ]
  }
 ],
 "metadata": {
  "kernelspec": {
   "display_name": "python3.6",
   "language": "python",
   "name": "python3.6"
  },
  "language_info": {
   "codemirror_mode": {
    "name": "ipython",
    "version": 3
   },
   "file_extension": ".py",
   "mimetype": "text/x-python",
   "name": "python",
   "nbconvert_exporter": "python",
   "pygments_lexer": "ipython3",
   "version": "3.6.13"
  }
 },
 "nbformat": 4,
 "nbformat_minor": 5
}
