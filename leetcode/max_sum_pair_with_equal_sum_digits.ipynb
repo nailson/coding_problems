{
 "cells": [
  {
   "cell_type": "markdown",
   "id": "14060df4",
   "metadata": {},
   "source": [
    "# 2342. Max Sum of a Pair With Equal Sum of Digits\n",
    "You are given a 0-indexed array nums consisting of positive integers. You can choose two indices i and j, such that i != j, and the sum of digits of the number nums\\[i] is equal to that of nums[j].\n",
    "Return the maximum value of nums\\[i] + nums\\[j] that you can obtain over all possible indices i and j that satisfy the conditions.\n",
    "\n",
    "[Leetcode link](https://leetcode.com/problems/max-sum-of-a-pair-with-equal-sum-of-digits/)\n",
    "\n",
    "Example 1:\n",
    "\n",
    "Input: nums = \\[18,43,36,13,7\\]\n",
    "\n",
    "Output: 54\n",
    "\n",
    "Explanation: The pairs \\(i, j\\) that satisfy the conditions are:\n",
    "- \\(0, 2\\), both numbers have a sum of digits equal to 9, and their sum is 18 + 36 = 54.\n",
    "- \\(1, 4\\), both numbers have a sum of digits equal to 7, and their sum is 43 + 7 = 50.\n",
    "\n",
    "So the maximum sum that we can obtain is 54.\n"
   ]
  },
  {
   "cell_type": "code",
   "execution_count": 1,
   "id": "47bbb0af",
   "metadata": {},
   "outputs": [],
   "source": [
    "nums = [18,43,36,13,7]"
   ]
  },
  {
   "cell_type": "code",
   "execution_count": 20,
   "id": "63fa4ea0",
   "metadata": {},
   "outputs": [],
   "source": [
    "nums = [10,12,19,14]"
   ]
  },
  {
   "cell_type": "code",
   "execution_count": 28,
   "id": "24e6a95d",
   "metadata": {},
   "outputs": [
    {
     "data": {
      "text/plain": [
       "'10'"
      ]
     },
     "execution_count": 28,
     "metadata": {},
     "output_type": "execute_result"
    }
   ],
   "source": [
    "str(10)"
   ]
  },
  {
   "cell_type": "code",
   "execution_count": 33,
   "id": "22285132",
   "metadata": {},
   "outputs": [
    {
     "name": "stdout",
     "output_type": "stream",
     "text": [
      "-1\n"
     ]
    }
   ],
   "source": [
    "max_sum = -1\n",
    "for i in range(0, len(nums)):\n",
    "    sum_digit_i = sum(int(digit) for digit in str(i))\n",
    "    for j in range(i+1, len(nums)):\n",
    "        sum_digit_j = sum(int(digit) for digit in str(j))\n",
    "        if(sum_digit_i == sum_digit_j):\n",
    "            print(\"nums[i]=%d, nums[j]=%d, sum=%d\"% (nums[i], nums[j],nums[i]+nums[j]))\n",
    "            max_sum = max(max_sum, nums[i] + nums[j])\n",
    "    \n",
    "print(max_sum)"
   ]
  },
  {
   "cell_type": "code",
   "execution_count": 31,
   "id": "b2a5e8c2",
   "metadata": {},
   "outputs": [
    {
     "data": {
      "text/plain": [
       "1"
      ]
     },
     "execution_count": 31,
     "metadata": {},
     "output_type": "execute_result"
    }
   ],
   "source": [
    " sum(int(digit) for digit in str(10))"
   ]
  },
  {
   "cell_type": "code",
   "execution_count": 38,
   "id": "b9292ac9",
   "metadata": {},
   "outputs": [],
   "source": [
    "from typing import List\n",
    "\n",
    "def maximumSum(nums: List[int]) -> int:\n",
    "    max_sum = -1\n",
    "    for i in range(0, len(nums)):\n",
    "        sum_digit_i = sum(int(digit) for digit in str(nums[i]))\n",
    "        for j in range(i+1, len(nums)):\n",
    "            sum_digit_j = sum(int(digit) for digit in str(nums[j]))\n",
    "            if(sum_digit_i == sum_digit_j):\n",
    "                #print(\"nums[i]=%d, nums[j]=%d, sum=%d\"% (nums[i], nums[j],nums[i]+nums[j]))\n",
    "                max_sum = max(max_sum, nums[i] + nums[j])\n",
    "\n",
    "    return max_sum"
   ]
  },
  {
   "cell_type": "code",
   "execution_count": 39,
   "id": "077b3ce5",
   "metadata": {},
   "outputs": [
    {
     "data": {
      "text/plain": [
       "54"
      ]
     },
     "execution_count": 39,
     "metadata": {},
     "output_type": "execute_result"
    }
   ],
   "source": [
    "maximumSum([18,43,36,13,7])"
   ]
  },
  {
   "cell_type": "code",
   "execution_count": 40,
   "id": "b377de35",
   "metadata": {},
   "outputs": [
    {
     "data": {
      "text/plain": [
       "835"
      ]
     },
     "execution_count": 40,
     "metadata": {},
     "output_type": "execute_result"
    }
   ],
   "source": [
    "nums = [368,369,307,304,384,138,90,279,35,396,114,328,251,364,300,191,438,467,183]\n",
    "\n",
    "maximumSum(nums)"
   ]
  },
  {
   "cell_type": "code",
   "execution_count": 67,
   "id": "1dca8fdf",
   "metadata": {},
   "outputs": [],
   "source": [
    "def maximumSum(nums):\n",
    "    max_sum = -1\n",
    "    dig_sum_map = {}\n",
    "    \n",
    "    for num in nums:\n",
    "        dig_sum = sum([int(digit) for digit in str(num)])\n",
    "        if dig_sum not in dig_sum_map:\n",
    "            dig_sum_map[dig_sum] = [num]\n",
    "        else: dig_sum_map[dig_sum].append(num)\n",
    "            \n",
    "    for dig_sum in dig_sum_map.keys():\n",
    "        if len(dig_sum_map[dig_sum]) >= 2:\n",
    "            dig_sum_map[dig_sum].sort(reverse=True)\n",
    "            max_sum = max(max_sum, dig_sum_map[dig_sum][0] + dig_sum_map[dig_sum][1])\n",
    "            \n",
    "    return max_sum\n",
    "                \n",
    "    "
   ]
  },
  {
   "cell_type": "code",
   "execution_count": 68,
   "id": "fe297bda",
   "metadata": {},
   "outputs": [
    {
     "data": {
      "text/plain": [
       "835"
      ]
     },
     "execution_count": 68,
     "metadata": {},
     "output_type": "execute_result"
    }
   ],
   "source": [
    "maximumSum(nums)"
   ]
  },
  {
   "cell_type": "code",
   "execution_count": 69,
   "id": "aa1b31c1",
   "metadata": {},
   "outputs": [
    {
     "data": {
      "text/plain": [
       "835"
      ]
     },
     "execution_count": 69,
     "metadata": {},
     "output_type": "execute_result"
    }
   ],
   "source": [
    "nums = [368,369,307,304,384,138,90,279,35,396,114,328,251,364,300,191,438,467,183]\n",
    "\n",
    "maximumSum(nums)"
   ]
  }
 ],
 "metadata": {
  "kernelspec": {
   "display_name": "Python 3",
   "language": "python",
   "name": "python3"
  },
  "language_info": {
   "codemirror_mode": {
    "name": "ipython",
    "version": 3
   },
   "file_extension": ".py",
   "mimetype": "text/x-python",
   "name": "python",
   "nbconvert_exporter": "python",
   "pygments_lexer": "ipython3",
   "version": "3.8.8"
  }
 },
 "nbformat": 4,
 "nbformat_minor": 5
}
