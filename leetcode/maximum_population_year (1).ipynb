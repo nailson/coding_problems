{
 "cells": [
  {
   "cell_type": "markdown",
   "id": "be56b594-6a09-4bb9-a641-999af10bc90f",
   "metadata": {},
   "source": [
    "## 1854. Maximum Population Year\n",
    "\n",
    "You are given a 2D integer array logs where each logs[i] = [birthi, deathi] indicates the birth and death years of the ith person.\n",
    "\n",
    "The population of some year x is the number of people alive during that year. The ith person is counted in year x's population if x is in the inclusive range [birthi, deathi - 1]. Note that the person is not counted in the year that they die.\n",
    "\n",
    "Return the earliest year with the maximum population.\n",
    "\n",
    "\n",
    "Example 1:\n",
    "\n",
    "Input: logs = [[1993,1999],[2000,2010]]\n",
    "Output: 1993\n",
    "Explanation: The maximum population is 1, and 1993 is the earliest year with this population.\n",
    "Example 2:\n",
    "\n",
    "Input: logs = [[1950,1961],[1960,1971],[1970,1981]]\n",
    "Output: 1960\n",
    "Explanation: \n",
    "The maximum population is 2, and it had happened in years 1960 and 1970.\n",
    "The earlier year between them is 1960.\n",
    " \n",
    "\n",
    "Constraints:\n",
    "\n",
    "1 <= logs.length <= 100\n",
    "1950 <= birthi < deathi <= 2050"
   ]
  },
  {
   "cell_type": "code",
   "execution_count": 18,
   "id": "8a7502a7-54be-4581-ae17-17cff9c50283",
   "metadata": {},
   "outputs": [
    {
     "data": {
      "text/plain": [
       "1960"
      ]
     },
     "execution_count": 18,
     "metadata": {},
     "output_type": "execute_result"
    }
   ],
   "source": [
    "year_count = {year:0 for year in range(1950, 2015)}\n",
    "input_problem = [[1950,1961],[1960,1971],[1970,1981]]\n",
    "for list_year in input_problem:\n",
    "    for year in range(list_year[0], list_year[1]):\n",
    "        year_count[year] = year_count[year] + 1\n",
    "\n",
    "\n",
    "sorted_x = sorted(year_count.items(), key=lambda kv: -kv[1])\n",
    "sorted_x[0][0]"
   ]
  },
  {
   "cell_type": "code",
   "execution_count": 19,
   "id": "2b6755fc-55d2-49d1-a52f-8b044cd1e26e",
   "metadata": {},
   "outputs": [
    {
     "data": {
      "text/plain": [
       "1993"
      ]
     },
     "execution_count": 19,
     "metadata": {},
     "output_type": "execute_result"
    }
   ],
   "source": [
    "\n",
    "\n",
    "year_count = {year:0 for year in range(1950, 2015)}\n",
    "input_problem = [[1993,1999],[2000,2010]]\n",
    "for list_year in input_problem:\n",
    "    for year in range(list_year[0], list_year[1]):\n",
    "        year_count[year] = year_count[year] + 1\n",
    "\n",
    "\n",
    "sorted_x = sorted(year_count.items(), key=lambda kv: -kv[1])\n",
    "sorted_x[0][0]"
   ]
  },
  {
   "cell_type": "code",
   "execution_count": null,
   "id": "c07a13f9-3051-47c8-af30-124ae064df90",
   "metadata": {},
   "outputs": [],
   "source": [
    "year_count = {year:0 for year in range(1950, 2015)}\n",
    "input_problem = [[1993,1999],[2000,2010]]\n",
    "\n",
    "for list_year in input_problem:\n",
    "    for year in range(list_year[0], list_year[1]):\n",
    "        year_count[year] = year_count[year] + 1\n",
    "\n",
    "\n",
    "sorted_x = sorted(year_count.items(), key=lambda kv: -kv[1])\n",
    "sorted_x[0][0]"
   ]
  },
  {
   "cell_type": "code",
   "execution_count": 22,
   "id": "4b2f9b07-4cd3-40f5-adeb-168b201d5d9d",
   "metadata": {},
   "outputs": [
    {
     "data": {
      "text/plain": [
       "Counter({1993: 1, 1999: 1})"
      ]
     },
     "execution_count": 22,
     "metadata": {},
     "output_type": "execute_result"
    }
   ],
   "source": [
    "from collections import Counter\n",
    "Counter([1993,1999])"
   ]
  },
  {
   "cell_type": "code",
   "execution_count": 30,
   "id": "76059c49-2527-4a4b-8484-60b690b69798",
   "metadata": {},
   "outputs": [
    {
     "name": "stdout",
     "output_type": "stream",
     "text": [
      "2008\n",
      "4\n"
     ]
    }
   ],
   "source": [
    "from collections import Counter\n",
    "\n",
    "input_problem = [[2008,2026],[2004,2008],[2034,2035],[1999,2050],[2049,2050],[2011,2035],[1966,2033],[2044,2049]]\n",
    "born_years = [x[0] for x in input_problem]\n",
    "death_years = [x[1] + 1 for x in input_problem]\n",
    "\n",
    "born_years_counter = Counter(born_years)\n",
    "death_years_counter = Counter(death_years)\n",
    "\n",
    "live_count = 0\n",
    "max_live_count = 0\n",
    "max_live_year = min(born_years)\n",
    "\n",
    "for year in range(min(born_years), max(death_years)):\n",
    "    live_count = live_count + born_years_counter[year] - death_years_counter[year]\n",
    "    if(live_count > max_live_count):\n",
    "        max_live_count = live_count\n",
    "        max_live_year = year\n",
    "\n",
    "print(max_live_year)\n",
    "print(max_live_count)"
   ]
  },
  {
   "cell_type": "code",
   "execution_count": 26,
   "id": "326f0f2c-6eba-4335-bcd0-ff5e8b9db62c",
   "metadata": {},
   "outputs": [
    {
     "data": {
      "text/plain": [
       "Counter({2008: 1,\n",
       "         2004: 1,\n",
       "         2034: 1,\n",
       "         1999: 1,\n",
       "         2049: 1,\n",
       "         2011: 1,\n",
       "         1966: 1,\n",
       "         2044: 1})"
      ]
     },
     "execution_count": 26,
     "metadata": {},
     "output_type": "execute_result"
    }
   ],
   "source": [
    "born_years_counter"
   ]
  },
  {
   "cell_type": "code",
   "execution_count": 27,
   "id": "f31c11de-d09f-4852-82c6-70fac1f67554",
   "metadata": {},
   "outputs": [
    {
     "data": {
      "text/plain": [
       "Counter({2027: 1, 2009: 1, 2036: 2, 2051: 2, 2034: 1, 2050: 1})"
      ]
     },
     "execution_count": 27,
     "metadata": {},
     "output_type": "execute_result"
    }
   ],
   "source": [
    "death_years_counter"
   ]
  },
  {
   "cell_type": "markdown",
   "id": "8264fb1e-907f-4b3e-abba-90e76866c158",
   "metadata": {},
   "source": [
    "## Solution"
   ]
  },
  {
   "cell_type": "code",
   "execution_count": 32,
   "id": "a01d03a1-c21a-428d-8162-6f1b7ea3c700",
   "metadata": {},
   "outputs": [],
   "source": [
    "from collections import Counter\n",
    "from typing import List\n",
    "\n",
    "class Solution:\n",
    "    \n",
    "    def maximumPopulation2(self, logs: List[List[int]]) -> int:\n",
    "        year_count = {year:0 for year in range(1950, 2050)}\n",
    "        \n",
    "        for list_year in logs:\n",
    "            for year in range(list_year[0], list_year[1]):\n",
    "                year_count[year] = year_count[year] + 1\n",
    "\n",
    "        sorted_x = sorted(year_count.items(), key=lambda kv: -kv[1])\n",
    "        return sorted_x[0][0]\n",
    "    \n",
    "    \n",
    "\n",
    "    def maximumPopulation(self, logs: List[List[int]]) -> int:\n",
    "        born_years = [x[0] for x in logs]\n",
    "        death_years = [x[1] for x in logs]\n",
    "\n",
    "        born_years_counter = Counter(born_years)\n",
    "        death_years_counter = Counter(death_years)\n",
    "\n",
    "        live_count = 0\n",
    "        max_live_count = 0\n",
    "        max_live_year = min(born_years)\n",
    "\n",
    "        for year in range(min(born_years), max(death_years)):\n",
    "            live_count = live_count + born_years_counter[year] - death_years_counter[year]\n",
    "            if(max_live_count < live_count):\n",
    "                max_live_count = live_count\n",
    "                max_live_year = year\n",
    "        return max_live_year"
   ]
  },
  {
   "cell_type": "code",
   "execution_count": null,
   "id": "87c2069a-a2da-4d73-9b40-dd2550bb4c14",
   "metadata": {},
   "outputs": [],
   "source": []
  }
 ],
 "metadata": {
  "kernelspec": {
   "display_name": "python3.6",
   "language": "python",
   "name": "python3.6"
  },
  "language_info": {
   "codemirror_mode": {
    "name": "ipython",
    "version": 3
   },
   "file_extension": ".py",
   "mimetype": "text/x-python",
   "name": "python",
   "nbconvert_exporter": "python",
   "pygments_lexer": "ipython3",
   "version": "3.6.13"
  }
 },
 "nbformat": 4,
 "nbformat_minor": 5
}
