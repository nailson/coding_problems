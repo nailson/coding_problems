{
 "cells": [
  {
   "cell_type": "markdown",
   "id": "47041be9",
   "metadata": {},
   "source": [
    "## [Merge Two Sorted Lists](https://leetcode.com/problems/merge-two-sorted-lists/)"
   ]
  },
  {
   "cell_type": "code",
   "execution_count": 4,
   "id": "b4cbea43",
   "metadata": {},
   "outputs": [],
   "source": [
    "# Definition for singly-linked list.\n",
    "from typing import List, Optional\n",
    "class ListNode:\n",
    "    def __init__(self, val=0, next=None):\n",
    "        self.val = val\n",
    "        self.next = next\n",
    "\n",
    "class Solution:\n",
    "    def mergeTwoLists(self, list1: Optional[ListNode], list2: Optional[ListNode]) -> Optional[ListNode]:\n",
    "        \n",
    "        if list1 is None:\n",
    "            return list2\n",
    "        elif list2 is None:\n",
    "            return list1\n",
    "        \n",
    "        final_list = ListNode()\n",
    "        if list1.val < list2.val:\n",
    "            final_list = ListNode(list1.val)\n",
    "            aux_list1 = list1.next\n",
    "            aux_list2= list2\n",
    "        else:\n",
    "            final_list = ListNode(list2.val)\n",
    "            aux_list1 = list1\n",
    "            aux_list2 = list2.next\n",
    "        \n",
    "        aux_final_list = final_list\n",
    "        \n",
    "        while aux_list1 and aux_list2:\n",
    "            if aux_list1.val < aux_list2.val:\n",
    "                aux_final_list.next = ListNode(aux_list1.val)\n",
    "                aux_list1 = aux_list1.next\n",
    "            else:\n",
    "                aux_final_list.next = ListNode(aux_list2.val)\n",
    "                aux_list2 = aux_list2.next\n",
    "            aux_final_list = aux_final_list.next\n",
    "        while aux_list1:\n",
    "            aux_final_list.next = ListNode(aux_list1.val)\n",
    "            aux_list1 = aux_list1.next\n",
    "            aux_final_list = aux_final_list.next\n",
    "        while aux_list2:\n",
    "            aux_final_list.next = ListNode(aux_list2.val)\n",
    "            aux_list2 = aux_list2.next\n",
    "            aux_final_list = aux_final_list.next\n",
    "            \n",
    "        return final_list\n"
   ]
  },
  {
   "cell_type": "code",
   "execution_count": 34,
   "id": "ad6f010e",
   "metadata": {},
   "outputs": [],
   "source": [
    "# Definition for singly-linked list.\n",
    "from typing import List, Optional\n",
    "class ListNode:\n",
    "    def __init__(self, val=0, next=None):\n",
    "        self.val = val\n",
    "        self.next = next\n",
    "\n",
    "class Solution:\n",
    "    def mergeTwoLists(self, list1: Optional[ListNode], list2: Optional[ListNode]) -> Optional[ListNode]:\n",
    "        \n",
    "        final_list = ListNode()\n",
    "        current = final_list\n",
    "        while list1 and list2:\n",
    "            if list1.val < list2.val:\n",
    "                current.next = ListNode(list1.val)\n",
    "                list1 = list1.next\n",
    "            else:\n",
    "                current.next = ListNode(list2.val)\n",
    "                list2 = list2.next\n",
    "            current = current.next\n",
    "        current.next = list1 or list2\n",
    "            \n",
    "        return final_list.next\n"
   ]
  },
  {
   "cell_type": "code",
   "execution_count": 31,
   "id": "291801d4",
   "metadata": {},
   "outputs": [],
   "source": [
    "def create_ListNode(node_list: List[int])-> Optional[ListNode]:\n",
    "    test_list = ListNode()\n",
    "    aux_list = test_list\n",
    "    for i in node_list:\n",
    "        aux_list.next = ListNode(i)\n",
    "        aux_list = aux_list.next\n",
    "    return test_list.next\n",
    "\n",
    "def print_listNode(listnode: Optional[ListNode]):\n",
    "    node_list = []\n",
    "    while(listnode):\n",
    "        node_list.append(listnode.val)\n",
    "        listnode = listnode.next\n",
    "    return node_list"
   ]
  },
  {
   "cell_type": "code",
   "execution_count": 35,
   "id": "ce3ce1ec",
   "metadata": {},
   "outputs": [
    {
     "data": {
      "text/plain": [
       "[1, 1, 2, 3, 4, 4]"
      ]
     },
     "execution_count": 35,
     "metadata": {},
     "output_type": "execute_result"
    }
   ],
   "source": [
    "list1 = create_ListNode([1,2,4])\n",
    "list2 = create_ListNode([1,3,4])\n",
    "\n",
    "sol = Solution()\n",
    "merged_list = sol.mergeTwoLists(list1, list2)\n",
    "print_listNode(merged_list)"
   ]
  },
  {
   "cell_type": "code",
   "execution_count": null,
   "id": "2bdd4922",
   "metadata": {},
   "outputs": [],
   "source": []
  }
 ],
 "metadata": {
  "kernelspec": {
   "display_name": "Python 3 (ipykernel)",
   "language": "python",
   "name": "python3"
  },
  "language_info": {
   "codemirror_mode": {
    "name": "ipython",
    "version": 3
   },
   "file_extension": ".py",
   "mimetype": "text/x-python",
   "name": "python",
   "nbconvert_exporter": "python",
   "pygments_lexer": "ipython3",
   "version": "3.11.5"
  }
 },
 "nbformat": 4,
 "nbformat_minor": 5
}
