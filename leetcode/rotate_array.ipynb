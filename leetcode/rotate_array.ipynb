{
 "cells": [
  {
   "cell_type": "markdown",
   "id": "51afe4ae",
   "metadata": {},
   "source": [
    "## [189. Rotate Array](https://leetcode.com/problems/rotate-array/?envType=study-plan-v2&envId=top-interview-150)\n"
   ]
  },
  {
   "cell_type": "code",
   "execution_count": 13,
   "id": "29e0d82d",
   "metadata": {},
   "outputs": [],
   "source": [
    "from typing import List\n",
    "\n",
    "class Solution:\n",
    "    def rotate(self, nums: List[int], k: int) -> None:\n",
    "        \"\"\"\n",
    "        Do not return anything, modify nums in-place instead.\n",
    "        \"\"\"\n",
    "        listLen: int = len(nums)\n",
    "        k = len(nums) if k>len(nums) else k\n",
    "        \n",
    "        auxList: List[int] = []\n",
    "        \n",
    "        for i in range(listLen - k, listLen):\n",
    "            auxList.append(nums[i])\n",
    "            print(auxList)\n",
    "\n",
    "        for i in range(0, listLen - k):\n",
    "            auxList.append(nums[i])\n",
    " \n",
    "        for i in range(0, len(auxList)):\n",
    "            nums[i] = auxList[i]\n",
    "     \n",
    "        return nums\n"
   ]
  },
  {
   "cell_type": "code",
   "execution_count": 14,
   "id": "40ab5fca",
   "metadata": {},
   "outputs": [],
   "source": [
    "nums = [1,2,3,4,5,6,7]"
   ]
  },
  {
   "cell_type": "code",
   "execution_count": 15,
   "id": "828eeb98",
   "metadata": {},
   "outputs": [
    {
     "name": "stdout",
     "output_type": "stream",
     "text": [
      "[5]\n",
      "[5, 6]\n",
      "[5, 6, 7]\n"
     ]
    },
    {
     "data": {
      "text/plain": [
       "[5, 6, 7, 1, 2, 3, 4]"
      ]
     },
     "execution_count": 15,
     "metadata": {},
     "output_type": "execute_result"
    }
   ],
   "source": [
    "Solution().rotate(nums, 3)"
   ]
  },
  {
   "cell_type": "code",
   "execution_count": 16,
   "id": "71320abe",
   "metadata": {},
   "outputs": [
    {
     "name": "stdout",
     "output_type": "stream",
     "text": [
      "[1]\n",
      "[1, 2]\n"
     ]
    },
    {
     "data": {
      "text/plain": [
       "[1, 2]"
      ]
     },
     "execution_count": 16,
     "metadata": {},
     "output_type": "execute_result"
    }
   ],
   "source": [
    "nums =[1,2]\n",
    "k =5\n",
    "\n",
    "Solution().rotate(nums, k)"
   ]
  },
  {
   "cell_type": "code",
   "execution_count": null,
   "id": "185f5d3f",
   "metadata": {},
   "outputs": [],
   "source": []
  },
  {
   "cell_type": "code",
   "execution_count": 71,
   "id": "c06288ce",
   "metadata": {},
   "outputs": [
    {
     "name": "stdout",
     "output_type": "stream",
     "text": [
      "i:0,k:3,len:7,i+k % len:3\n",
      "i:1,k:3,len:7,i+k % len:4\n",
      "i:2,k:3,len:7,i+k % len:5\n",
      "i:3,k:3,len:7,i+k % len:6\n",
      "i:4,k:3,len:7,i+k % len:0\n",
      "i:5,k:3,len:7,i+k % len:1\n",
      "i:6,k:3,len:7,i+k % len:2\n",
      "[5, 6, 7, 1, 2, 3, 4]\n"
     ]
    }
   ],
   "source": [
    "nums = [1,2,3,4,5,6,7]\n",
    "list_aux = [0]*len(nums)\n",
    "k=3\n",
    "\n",
    "for i in range(len(nums)):\n",
    "    print(\"i:{},k:{},len:{},i+k % len:{}\".format(i, k, len(nums),(i+k) % len(nums)))\n",
    "    list_aux[(i + k) % len(nums)] = nums[i]\n",
    "\n",
    "print(list_aux)"
   ]
  },
  {
   "cell_type": "code",
   "execution_count": 76,
   "id": "77ea223d",
   "metadata": {},
   "outputs": [],
   "source": [
    "class Solution:\n",
    "    def rotate(self, nums: List[int], k: int) -> None:\n",
    "        \"\"\"\n",
    "        Do not return anything, modify nums in-place instead.\n",
    "        \"\"\"\n",
    "        auxList: List[int] = [0] * len(nums)\n",
    "        \n",
    "        for i in range(len(nums)):\n",
    "            list_aux[(i + k) % len(nums)] = nums[i]\n",
    "\n",
    "        for i in range(len(nums)):\n",
    "            nums[i] = auxList[i]\n",
    "     \n",
    "        return nums"
   ]
  },
  {
   "cell_type": "code",
   "execution_count": 77,
   "id": "e279e2d1",
   "metadata": {},
   "outputs": [
    {
     "data": {
      "text/plain": [
       "[0, 0, 0, 0, 0, 0, 0]"
      ]
     },
     "execution_count": 77,
     "metadata": {},
     "output_type": "execute_result"
    }
   ],
   "source": [
    "nums = [1,2,3,4,5,6,7]\n",
    "Solution().rotate(nums, 3)"
   ]
  },
  {
   "cell_type": "code",
   "execution_count": 69,
   "id": "f7a1e9e4",
   "metadata": {},
   "outputs": [
    {
     "name": "stdout",
     "output_type": "stream",
     "text": [
      "[5, 6, 7, 1, 2, 3, 4]\n"
     ]
    }
   ],
   "source": [
    "print(list_aux)"
   ]
  },
  {
   "cell_type": "code",
   "execution_count": null,
   "id": "274c496c",
   "metadata": {},
   "outputs": [],
   "source": []
  }
 ],
 "metadata": {
  "kernelspec": {
   "display_name": "python3.6",
   "language": "python",
   "name": "python3.6"
  },
  "language_info": {
   "codemirror_mode": {
    "name": "ipython",
    "version": 3
   },
   "file_extension": ".py",
   "mimetype": "text/x-python",
   "name": "python",
   "nbconvert_exporter": "python",
   "pygments_lexer": "ipython3",
   "version": "3.6.13"
  }
 },
 "nbformat": 4,
 "nbformat_minor": 5
}
