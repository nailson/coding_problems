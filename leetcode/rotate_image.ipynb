{
 "cells": [
  {
   "cell_type": "markdown",
   "metadata": {},
   "source": [
    "## [48. Rotate Image](https://leetcode.com/problems/rotate-image/?envType=study-plan-v2&envId=top-interview-150)"
   ]
  },
  {
   "cell_type": "code",
   "execution_count": 127,
   "metadata": {},
   "outputs": [],
   "source": [
    "from typing import List\n"
   ]
  },
  {
   "cell_type": "code",
   "execution_count": 142,
   "metadata": {},
   "outputs": [],
   "source": [
    "matrix = [[1,2,3],[4,5,6],[7,8,9]]"
   ]
  },
  {
   "cell_type": "code",
   "execution_count": 143,
   "metadata": {},
   "outputs": [],
   "source": [
    "def printMatrix(matrix: List[List[int]]):\n",
    "    n = len(matrix[0])\n",
    "    for i in range(n):\n",
    "        for j in range(n):        \n",
    "            print(matrix[i][j], end=\"\")\n",
    "        print()"
   ]
  },
  {
   "cell_type": "code",
   "execution_count": 272,
   "metadata": {},
   "outputs": [],
   "source": [
    "matrix = [[1,2,3],[4,5,6],[7,8,9]]"
   ]
  },
  {
   "cell_type": "code",
   "execution_count": 273,
   "metadata": {},
   "outputs": [
    {
     "name": "stdout",
     "output_type": "stream",
     "text": [
      "123\n",
      "456\n",
      "789\n"
     ]
    }
   ],
   "source": [
    "printMatrix(matrix)"
   ]
  },
  {
   "cell_type": "code",
   "execution_count": 274,
   "metadata": {},
   "outputs": [
    {
     "name": "stdout",
     "output_type": "stream",
     "text": [
      "147\n",
      "258\n",
      "369\n"
     ]
    }
   ],
   "source": [
    "def transposeMatrix(matrix: List[List[int]]):\n",
    "    n = len(matrix[0])\n",
    "    for i in range(n):\n",
    "        for j in range(i+1, n):\n",
    "            aux = matrix[i][j]\n",
    "            matrix[i][j] = matrix[j][i]\n",
    "            matrix[j][i] = aux        \n",
    "\n",
    "transposeMatrix(matrix)\n",
    "printMatrix(matrix)"
   ]
  },
  {
   "cell_type": "code",
   "execution_count": 295,
   "metadata": {},
   "outputs": [
    {
     "name": "stdout",
     "output_type": "stream",
     "text": [
      "i:0, j=2\n",
      "741\n",
      "825\n",
      "963\n",
      "\n",
      "i:1, j=2\n",
      "741\n",
      "528\n",
      "963\n",
      "\n",
      "i:2, j=2\n",
      "741\n",
      "528\n",
      "369\n",
      "\n"
     ]
    }
   ],
   "source": [
    "def invertColumnMatrix(matrix: List[List[int]]):\n",
    "    n = len(matrix[0])\n",
    "    for i in range(n):\n",
    "        for j in range(n//2):\n",
    "            print(f\"i:{i}, j={n-j-1}\")\n",
    "            matrix[i][j], matrix[i][n-j-1] = matrix[i][n-j-1], matrix[i][j]\n",
    "        printMatrix(matrix)\n",
    "        print()\n",
    "\n",
    "matrix2 = matrix.copy()\n",
    "invertColumnMatrix(matrix2)\n",
    "#printMatrix(matrix2)"
   ]
  },
  {
   "cell_type": "code",
   "execution_count": 277,
   "metadata": {},
   "outputs": [
    {
     "name": "stdout",
     "output_type": "stream",
     "text": [
      "741\n",
      "528\n",
      "369\n"
     ]
    }
   ],
   "source": [
    "printMatrix(matrix2)"
   ]
  },
  {
   "cell_type": "code",
   "execution_count": 249,
   "metadata": {},
   "outputs": [],
   "source": [
    "def invert_columns_inplace(matrix):\n",
    "    num_rows = len(matrix)\n",
    "    num_cols = len(matrix[0])\n",
    "\n",
    "    for j in range(num_cols):\n",
    "        for i in range(num_rows // 2):\n",
    "            # Swap elements in the column\n",
    "            matrix[i][j], matrix[num_rows - 1 - i][j] = matrix[num_rows - 1 - i][j], matrix[i][j]\n"
   ]
  },
  {
   "cell_type": "code",
   "execution_count": 250,
   "metadata": {},
   "outputs": [
    {
     "name": "stdout",
     "output_type": "stream",
     "text": [
      "963\n",
      "528\n",
      "147\n"
     ]
    }
   ],
   "source": [
    "invert_columns_inplace(matrix)\n",
    "printMatrix(matrix)"
   ]
  },
  {
   "cell_type": "code",
   "execution_count": 59,
   "metadata": {},
   "outputs": [
    {
     "data": {
      "text/plain": [
       "2"
      ]
     },
     "execution_count": 59,
     "metadata": {},
     "output_type": "execute_result"
    }
   ],
   "source": [
    "n-0-1"
   ]
  },
  {
   "cell_type": "code",
   "execution_count": 67,
   "metadata": {},
   "outputs": [
    {
     "data": {
      "text/plain": [
       "4"
      ]
     },
     "execution_count": 67,
     "metadata": {},
     "output_type": "execute_result"
    }
   ],
   "source": [
    "matrix2[0][2]"
   ]
  },
  {
   "cell_type": "code",
   "execution_count": 116,
   "metadata": {},
   "outputs": [],
   "source": [
    "matrix2 = matrix.copy()"
   ]
  },
  {
   "cell_type": "code",
   "execution_count": 107,
   "metadata": {},
   "outputs": [
    {
     "data": {
      "text/plain": [
       "7"
      ]
     },
     "execution_count": 107,
     "metadata": {},
     "output_type": "execute_result"
    }
   ],
   "source": [
    "matrix2[0][2]"
   ]
  },
  {
   "cell_type": "code",
   "execution_count": 108,
   "metadata": {},
   "outputs": [],
   "source": [
    "aux = matrix2[0][0]\n",
    "matrix2[0][0] = matrix2[0][2]\n",
    "matrix2[0][2] = aux"
   ]
  },
  {
   "cell_type": "code",
   "execution_count": 110,
   "metadata": {},
   "outputs": [],
   "source": [
    "aux = matrix2[1][0]\n",
    "matrix2[1][0] = matrix2[1][2]\n",
    "matrix2[1][2] = aux"
   ]
  },
  {
   "cell_type": "code",
   "execution_count": 111,
   "metadata": {},
   "outputs": [],
   "source": [
    "aux = matrix2[2][0]\n",
    "matrix2[2][0] = matrix2[2][2]\n",
    "matrix2[2][2] = aux"
   ]
  },
  {
   "cell_type": "code",
   "execution_count": 134,
   "metadata": {},
   "outputs": [
    {
     "name": "stdout",
     "output_type": "stream",
     "text": [
      "147\n",
      "258\n",
      "369\n"
     ]
    }
   ],
   "source": [
    "printMatrix(matrix2)"
   ]
  },
  {
   "cell_type": "code",
   "execution_count": 126,
   "metadata": {},
   "outputs": [
    {
     "name": "stdout",
     "output_type": "stream",
     "text": [
      "0\n",
      "0\n",
      "1\n",
      "0\n",
      "2\n",
      "0\n",
      "741\n",
      "528\n",
      "369\n"
     ]
    }
   ],
   "source": [
    "from math import floor\n",
    "matrix2 = matrix.copy()\n",
    "\n",
    "for i in range(n):\n",
    "    for j in range(floor(n/2)):\n",
    "        aux = matrix2[i][j]\n",
    "        matrix2[i][j] = matrix2[i][n-i-1]\n",
    "        matrix2[i][n-i-1] = aux\n",
    "for i in range(n):\n",
    "    for j in range(n):        \n",
    "        print(matrix2[i][j], end=\"\")\n",
    "    print()"
   ]
  },
  {
   "cell_type": "code",
   "execution_count": 128,
   "metadata": {},
   "outputs": [],
   "source": []
  },
  {
   "cell_type": "code",
   "execution_count": null,
   "metadata": {},
   "outputs": [],
   "source": [
    "[[7,4,1],[8,5,2],[9,6,3]]"
   ]
  },
  {
   "cell_type": "code",
   "execution_count": 8,
   "metadata": {},
   "outputs": [
    {
     "data": {
      "text/plain": [
       "3"
      ]
     },
     "execution_count": 8,
     "metadata": {},
     "output_type": "execute_result"
    }
   ],
   "source": [
    "len(matrix[0])"
   ]
  }
 ],
 "metadata": {
  "kernelspec": {
   "display_name": "Python 3",
   "language": "python",
   "name": "python3"
  },
  "language_info": {
   "codemirror_mode": {
    "name": "ipython",
    "version": 3
   },
   "file_extension": ".py",
   "mimetype": "text/x-python",
   "name": "python",
   "nbconvert_exporter": "python",
   "pygments_lexer": "ipython3",
   "version": "3.8.8"
  }
 },
 "nbformat": 4,
 "nbformat_minor": 2
}
