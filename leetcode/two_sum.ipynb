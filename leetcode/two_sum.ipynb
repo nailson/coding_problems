{
 "cells": [
  {
   "cell_type": "markdown",
   "id": "cff53173",
   "metadata": {},
   "source": [
    "## Two sum"
   ]
  },
  {
   "cell_type": "code",
   "execution_count": 22,
   "id": "30a9dbd1",
   "metadata": {},
   "outputs": [],
   "source": [
    "import math\n",
    "from typing import List \n",
    "\n",
    "class Solution:\n",
    "    def twoSum(self, nums: List[int], target: int) -> List[int]:\n",
    "        #nums.sort()\n",
    "        possible_numbers = [num for num in nums if num <= target]\n",
    "        possible_numbers.sort()\n",
    "\n",
    "        for i in range(0, math.ceil(len(possible_numbers)/2)):\n",
    "            if possible_numbers[i]+possible_numbers[len(possible_numbers) -1 - i]:\n",
    "                return [nums.index(possible_numbers[i]), nums.index(possible_numbers[len(possible_numbers) -1 - i])]\n",
    "        return \n"
   ]
  },
  {
   "cell_type": "code",
   "execution_count": 25,
   "id": "6fb2a21a",
   "metadata": {},
   "outputs": [
    {
     "data": {
      "text/plain": [
       "[1, 2]"
      ]
     },
     "execution_count": 25,
     "metadata": {},
     "output_type": "execute_result"
    }
   ],
   "source": [
    "nums =[3,2,4]\n",
    "target = 6\n",
    "\n",
    "sol = Solution()\n",
    "sol.twoSum(nums,target)"
   ]
  },
  {
   "cell_type": "code",
   "execution_count": 27,
   "id": "9228c01b",
   "metadata": {},
   "outputs": [
    {
     "data": {
      "text/plain": [
       "[0, 0]"
      ]
     },
     "execution_count": 27,
     "metadata": {},
     "output_type": "execute_result"
    }
   ],
   "source": [
    "nums = [3,3]\n",
    "target = 6\n",
    "sol = Solution()\n",
    "sol.twoSum(nums,target)"
   ]
  },
  {
   "cell_type": "code",
   "execution_count": 30,
   "id": "1b3a4389",
   "metadata": {},
   "outputs": [],
   "source": [
    "class Solution:\n",
    "    def twoSum(self, nums: List[int], target: int) -> List[int]:\n",
    "        # Create a dictionary to store the indices of each number\n",
    "        indices = {}\n",
    "        for i, num in enumerate(nums):\n",
    "            indices[num] = i\n",
    "        print(indices)\n",
    "        # Iterate through the list and look for pairs that add up to the target value\n",
    "        for i, num in enumerate(nums):\n",
    "            complement = target - num\n",
    "            if complement in indices and indices[complement] != i:\n",
    "                return [i, indices[complement]]\n",
    "        \n",
    "        # Return an empty list if no pair is found\n",
    "        return []"
   ]
  },
  {
   "cell_type": "code",
   "execution_count": 34,
   "id": "fc164412",
   "metadata": {},
   "outputs": [
    {
     "name": "stdout",
     "output_type": "stream",
     "text": [
      "{1: 0, 3: 4, 0: 3}\n"
     ]
    },
    {
     "data": {
      "text/plain": [
       "[1, 4]"
      ]
     },
     "execution_count": 34,
     "metadata": {},
     "output_type": "execute_result"
    }
   ],
   "source": [
    "nums = [1,3,0,0,3]\n",
    "target = 6\n",
    "sol = Solution()\n",
    "sol.twoSum(nums,target)"
   ]
  },
  {
   "cell_type": "code",
   "execution_count": null,
   "id": "a51f9bf3",
   "metadata": {},
   "outputs": [],
   "source": []
  }
 ],
 "metadata": {
  "kernelspec": {
   "display_name": "python3.6",
   "language": "python",
   "name": "python3.6"
  },
  "language_info": {
   "codemirror_mode": {
    "name": "ipython",
    "version": 3
   },
   "file_extension": ".py",
   "mimetype": "text/x-python",
   "name": "python",
   "nbconvert_exporter": "python",
   "pygments_lexer": "ipython3",
   "version": "3.6.13"
  }
 },
 "nbformat": 4,
 "nbformat_minor": 5
}
