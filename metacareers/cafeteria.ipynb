{
 "cells": [
  {
   "cell_type": "markdown",
   "id": "08ab0495",
   "metadata": {},
   "source": [
    "# Cafeteria\n",
    "A cafeteria table consists of a row of N seats, numbered from 1 to N from left to right. Social distancing guidelines require that every diner be seated such that K seats to their left and K seats to their right (or all the remaining seats to that side if there are fewer than K) remain empty.\n",
    "There are currently M diners seated at the table, the ith of whom is in seat S i . No two diners are sitting in the same seat, and the social distancing guidelines are satisfied.\n",
    "Determine the maximum number of additional diners who can potentially sit at the table without social distancing guidelines being violated for any new or existing diners, assuming that the existing diners cannot move and that the additional diners will cooperate to maximize how many of them can sit down.\n",
    "Please take care to write a solution which runs within the time limit.\n",
    "Constraints:\n",
    "\n",
    "* 1≤N≤10ˆ15\n",
    "* 1≤K≤N\n",
    "* 1≤M≤500,000\n",
    "* M≤N\n",
    "* 1≤S i ≤N"
   ]
  },
  {
   "cell_type": "code",
   "execution_count": 1,
   "id": "afbfeea2",
   "metadata": {},
   "outputs": [],
   "source": [
    "from typing import List\n",
    "import math \n",
    "# Write any import statements here\n",
    " \n",
    "def getMaxAdditionalDinersCount(N: int, K: int, M: int, S: List[int]) -> int:\n",
    " # Write your code here\n",
    "  seats_list = N * [0]\n",
    "  for seat in S:\n",
    "    # Mark seats to the left and right of the diner as blocked\n",
    "    seats_blocked_right = min(seat + K, N)\n",
    "    seats_blocked_left = max(seat - K, 1)\n",
    "    \n",
    "    for i in range (seats_blocked_left-1, seats_blocked_right):\n",
    "      seats_list[i] = 1\n",
    "    \n",
    "  aux_seat_list = []\n",
    "  new_dinners = 0 \n",
    "  \n",
    "  for i, seat in enumerate(seats_list):\n",
    "    if seat == 0:\n",
    "      aux_seat_list.append(0)\n",
    "      #print(aux_seat_list)\n",
    "    elif len(aux_seat_list) > 0:\n",
    "      new_dinners += maxDinnersCount(len(aux_seat_list), K)\n",
    "      #print(new_dinners)\n",
    "      aux_seat_list = []\n",
    "    if i >= len(seats_list)-1:\n",
    "      #print(maxDinnersCount(len(aux_seat_list), K))\n",
    "      new_dinners += maxDinnersCount(len(aux_seat_list), K)\n",
    "      #print(new_dinners)\n",
    "      \n",
    "    \n",
    "  return new_dinners\n",
    "\n",
    "def maxDinnersCount(N: int,  K: int) -> int :\n",
    "  return math.ceil(N/(K + 1))\n"
   ]
  },
  {
   "cell_type": "code",
   "execution_count": 3,
   "id": "a1218c7a",
   "metadata": {},
   "outputs": [
    {
     "data": {
      "text/plain": [
       "3"
      ]
     },
     "execution_count": 3,
     "metadata": {},
     "output_type": "execute_result"
    }
   ],
   "source": [
    "N = 10\n",
    "K = 1\n",
    "M = 2\n",
    "S = [2, 6]\n",
    "getMaxAdditionalDinersCount(N, K, M, S)"
   ]
  },
  {
   "cell_type": "code",
   "execution_count": 4,
   "id": "1dfea270",
   "metadata": {},
   "outputs": [
    {
     "data": {
      "text/plain": [
       "1"
      ]
     },
     "execution_count": 4,
     "metadata": {},
     "output_type": "execute_result"
    }
   ],
   "source": [
    "N = 15\n",
    "K = 2\n",
    "M = 3\n",
    "S = [11, 6, 14]\n",
    "getMaxAdditionalDinersCount(N, K, M, S)"
   ]
  },
  {
   "cell_type": "code",
   "execution_count": null,
   "id": "ef8dadfa",
   "metadata": {},
   "outputs": [],
   "source": []
  },
  {
   "cell_type": "code",
   "execution_count": null,
   "id": "5ccf7be7",
   "metadata": {},
   "outputs": [],
   "source": []
  }
 ],
 "metadata": {
  "kernelspec": {
   "display_name": "python3.6",
   "language": "python",
   "name": "python3.6"
  },
  "language_info": {
   "codemirror_mode": {
    "name": "ipython",
    "version": 3
   },
   "file_extension": ".py",
   "mimetype": "text/x-python",
   "name": "python",
   "nbconvert_exporter": "python",
   "pygments_lexer": "ipython3",
   "version": "3.6.13"
  }
 },
 "nbformat": 4,
 "nbformat_minor": 5
}
