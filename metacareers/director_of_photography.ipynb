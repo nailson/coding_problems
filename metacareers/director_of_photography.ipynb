{
 "cells": [
  {
   "cell_type": "markdown",
   "id": "c3f9d250",
   "metadata": {},
   "source": [
    "[Director of Photography](https://www.metacareers.com/profile/coding_puzzles/?puzzle=870874083549040)"
   ]
  },
  {
   "cell_type": "code",
   "execution_count": 55,
   "id": "e4d44188",
   "metadata": {},
   "outputs": [],
   "source": [
    "def getArtisticPhotographCount(N: int, C: str, X: int, Y: int) -> int:\n",
    "    count = 0\n",
    "    for i in range(0, len(C)):\n",
    "        if C[i] == 'P' or C[i] == 'B':\n",
    "            start_seq = C[i]\n",
    "            for j in range(i+X, min(i+Y+1, N)):      \n",
    "                if C[j] == 'A':\n",
    "                    for z in range(j+X, min(j+Y+1, N)):\n",
    "                         if (C[z] == 'P' or C[z] == 'B') and start_seq != C[z] :\n",
    "                                count += 1\n",
    "    return count\n"
   ]
  },
  {
   "cell_type": "code",
   "execution_count": 56,
   "id": "1c6f0fd8",
   "metadata": {},
   "outputs": [],
   "source": [
    "N = 8\n",
    "C = '.PBAAP.B'\n",
    "X = 1\n",
    "Y = 3"
   ]
  },
  {
   "cell_type": "code",
   "execution_count": 69,
   "id": "dcf47cb8",
   "metadata": {},
   "outputs": [
    {
     "data": {
      "text/plain": [
       "1"
      ]
     },
     "execution_count": 69,
     "metadata": {},
     "output_type": "execute_result"
    }
   ],
   "source": [
    "getArtisticPhotographCount(N, C, X, Y)"
   ]
  },
  {
   "cell_type": "code",
   "execution_count": 53,
   "id": "a97f40fd",
   "metadata": {},
   "outputs": [
    {
     "name": "stdout",
     "output_type": "stream",
     "text": [
      "i=1, pos=P\n",
      "j=3, C[j]=A, queue_aux=['P', 'A']\n",
      "j=4, C[j]=A, queue_aux=['P', 'A', 'A']\n",
      "z=7, C[z]=B, queue_aux=['P', 'A', 'A']\n",
      "['P', 'A', 'A', 'B']\n",
      "i=2, pos=B\n",
      "j=3, C[j]=A, queue_aux=['B', 'A']\n",
      "z=5, C[z]=P, queue_aux=['B', 'A']\n",
      "j=4, C[j]=A, queue_aux=['B', 'A', 'P', 'A']\n",
      "z=5, C[z]=P, queue_aux=['B', 'A', 'P', 'A']\n",
      "['B', 'A', 'P', 'A', 'P']\n",
      "i=5, pos=P\n",
      "['P']\n",
      "i=7, pos=B\n",
      "['B']\n",
      "3\n"
     ]
    }
   ],
   "source": [
    "count = 0\n",
    "for i in range(0, len(C)):\n",
    "    queue_aux = []\n",
    "    if C[i] == 'P' or C[i] == 'B':\n",
    "        queue_aux.append(C[i])\n",
    "        start_seq = C[i]\n",
    "        for j in range(i+X, min(i+Y+1, N)):      \n",
    "            if C[j] == 'A':\n",
    "                queue_aux.append(C[j])\n",
    "                for z in range(j+X, min(j+Y+1, N)):\n",
    "                     if (C[z] == 'P' or C[z] == 'B') and start_seq != C[z] :\n",
    "                            queue_aux.append(C[z])\n",
    "                            count += 1\n",
    "return count"
   ]
  },
  {
   "cell_type": "code",
   "execution_count": 66,
   "id": "67f06b93",
   "metadata": {},
   "outputs": [
    {
     "data": {
      "text/plain": [
       "3"
      ]
     },
     "execution_count": 66,
     "metadata": {},
     "output_type": "execute_result"
    }
   ],
   "source": [
    "N = 8\n",
    "C = '.PBAAP.B'\n",
    "X = 1\n",
    "Y = 3\n",
    "\n",
    "getArtisticPhotographCount(N, C, X, Y)"
   ]
  },
  {
   "cell_type": "code",
   "execution_count": 67,
   "id": "c9211f18",
   "metadata": {},
   "outputs": [
    {
     "data": {
      "text/plain": [
       "0"
      ]
     },
     "execution_count": 67,
     "metadata": {},
     "output_type": "execute_result"
    }
   ],
   "source": [
    "N = 5\n",
    "C = 'APABA'\n",
    "X = 2\n",
    "Y = 3\n",
    "\n",
    "getArtisticPhotographCount(N, C, X, Y)"
   ]
  },
  {
   "cell_type": "code",
   "execution_count": 68,
   "id": "57391c0c",
   "metadata": {},
   "outputs": [
    {
     "data": {
      "text/plain": [
       "1"
      ]
     },
     "execution_count": 68,
     "metadata": {},
     "output_type": "execute_result"
    }
   ],
   "source": [
    "N = 5\n",
    "C = 'APABA'\n",
    "X = 1\n",
    "Y = 2\n",
    "\n",
    "getArtisticPhotographCount(N, C, X, Y)\n"
   ]
  },
  {
   "cell_type": "code",
   "execution_count": null,
   "id": "c22fb07d",
   "metadata": {},
   "outputs": [],
   "source": []
  },
  {
   "cell_type": "code",
   "execution_count": null,
   "id": "47e62c5f",
   "metadata": {},
   "outputs": [],
   "source": []
  }
 ],
 "metadata": {
  "kernelspec": {
   "display_name": "Python 3",
   "language": "python",
   "name": "python3"
  },
  "language_info": {
   "codemirror_mode": {
    "name": "ipython",
    "version": 3
   },
   "file_extension": ".py",
   "mimetype": "text/x-python",
   "name": "python",
   "nbconvert_exporter": "python",
   "pygments_lexer": "ipython3",
   "version": "3.8.8"
  }
 },
 "nbformat": 4,
 "nbformat_minor": 5
}
